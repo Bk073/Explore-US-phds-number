{
  "nbformat": 4,
  "nbformat_minor": 0,
  "metadata": {
    "colab": {
      "name": "Data explore.ipynb",
      "provenance": [],
      "collapsed_sections": []
    },
    "kernelspec": {
      "name": "python3",
      "display_name": "Python 3"
    }
  },
  "cells": [
    {
      "cell_type": "markdown",
      "metadata": {
        "id": "XoGuGKiLgBtf",
        "colab_type": "text"
      },
      "source": [
        "# https://mlcourse.ai/\n",
        "\n",
        "matplot.pyplot https://matplotlib.org/3.1.1/api/pyplot_summary.html"
      ]
    },
    {
      "cell_type": "code",
      "metadata": {
        "id": "zX7xEEg3niLk",
        "colab_type": "code",
        "colab": {}
      },
      "source": [
        "import numpy as np\n",
        "import pandas as pd\n",
        "import matplotlib.pyplot as plt\n",
        "%matplotlib inline"
      ],
      "execution_count": 0,
      "outputs": []
    },
    {
      "cell_type": "code",
      "metadata": {
        "id": "eapujeIOsgOZ",
        "colab_type": "code",
        "outputId": "4b8faeed-40f8-40f0-9552-04fbc19276f6",
        "colab": {
          "base_uri": "https://localhost:8080/",
          "height": 34
        }
      },
      "source": [
        "!git clone https://github.com/rfordatascience/tidytuesday.git"
      ],
      "execution_count": 0,
      "outputs": [
        {
          "output_type": "stream",
          "text": [
            "fatal: destination path 'tidytuesday' already exists and is not an empty directory.\n"
          ],
          "name": "stdout"
        }
      ]
    },
    {
      "cell_type": "code",
      "metadata": {
        "id": "TVbqL4l6qCv0",
        "colab_type": "code",
        "outputId": "e27bfb8e-0868-4dc5-b504-e98bdb54d32f",
        "colab": {
          "base_uri": "https://localhost:8080/",
          "height": 359
        }
      },
      "source": [
        "phd = pd.read_csv('tidytuesday/data/2019/2019-02-19/phd_by_field.csv')\n",
        "phd.head(10)"
      ],
      "execution_count": 0,
      "outputs": [
        {
          "output_type": "execute_result",
          "data": {
            "text/html": [
              "<div>\n",
              "<style scoped>\n",
              "    .dataframe tbody tr th:only-of-type {\n",
              "        vertical-align: middle;\n",
              "    }\n",
              "\n",
              "    .dataframe tbody tr th {\n",
              "        vertical-align: top;\n",
              "    }\n",
              "\n",
              "    .dataframe thead th {\n",
              "        text-align: right;\n",
              "    }\n",
              "</style>\n",
              "<table border=\"1\" class=\"dataframe\">\n",
              "  <thead>\n",
              "    <tr style=\"text-align: right;\">\n",
              "      <th></th>\n",
              "      <th>broad_field</th>\n",
              "      <th>major_field</th>\n",
              "      <th>field</th>\n",
              "      <th>year</th>\n",
              "      <th>n_phds</th>\n",
              "    </tr>\n",
              "  </thead>\n",
              "  <tbody>\n",
              "    <tr>\n",
              "      <th>0</th>\n",
              "      <td>Life sciences</td>\n",
              "      <td>Agricultural sciences and natural resources</td>\n",
              "      <td>Agricultural economics</td>\n",
              "      <td>2008</td>\n",
              "      <td>111.0</td>\n",
              "    </tr>\n",
              "    <tr>\n",
              "      <th>1</th>\n",
              "      <td>Life sciences</td>\n",
              "      <td>Agricultural sciences and natural resources</td>\n",
              "      <td>Agricultural and horticultural plant breeding</td>\n",
              "      <td>2008</td>\n",
              "      <td>28.0</td>\n",
              "    </tr>\n",
              "    <tr>\n",
              "      <th>2</th>\n",
              "      <td>Life sciences</td>\n",
              "      <td>Agricultural sciences and natural resources</td>\n",
              "      <td>Agricultural animal breeding</td>\n",
              "      <td>2008</td>\n",
              "      <td>3.0</td>\n",
              "    </tr>\n",
              "    <tr>\n",
              "      <th>3</th>\n",
              "      <td>Life sciences</td>\n",
              "      <td>Agricultural sciences and natural resources</td>\n",
              "      <td>Agronomy and crop science</td>\n",
              "      <td>2008</td>\n",
              "      <td>68.0</td>\n",
              "    </tr>\n",
              "    <tr>\n",
              "      <th>4</th>\n",
              "      <td>Life sciences</td>\n",
              "      <td>Agricultural sciences and natural resources</td>\n",
              "      <td>Animal nutrition</td>\n",
              "      <td>2008</td>\n",
              "      <td>41.0</td>\n",
              "    </tr>\n",
              "    <tr>\n",
              "      <th>5</th>\n",
              "      <td>Life sciences</td>\n",
              "      <td>Agricultural sciences and natural resources</td>\n",
              "      <td>Animal science, poultry or avian</td>\n",
              "      <td>2008</td>\n",
              "      <td>18.0</td>\n",
              "    </tr>\n",
              "    <tr>\n",
              "      <th>6</th>\n",
              "      <td>Life sciences</td>\n",
              "      <td>Agricultural sciences and natural resources</td>\n",
              "      <td>Animal sciences, other</td>\n",
              "      <td>2008</td>\n",
              "      <td>77.0</td>\n",
              "    </tr>\n",
              "    <tr>\n",
              "      <th>7</th>\n",
              "      <td>Life sciences</td>\n",
              "      <td>Agricultural sciences and natural resources</td>\n",
              "      <td>Environmental science</td>\n",
              "      <td>2008</td>\n",
              "      <td>182.0</td>\n",
              "    </tr>\n",
              "    <tr>\n",
              "      <th>8</th>\n",
              "      <td>Life sciences</td>\n",
              "      <td>Agricultural sciences and natural resources</td>\n",
              "      <td>Fishing and fisheries sciences and management</td>\n",
              "      <td>2008</td>\n",
              "      <td>52.0</td>\n",
              "    </tr>\n",
              "    <tr>\n",
              "      <th>9</th>\n",
              "      <td>Life sciences</td>\n",
              "      <td>Agricultural sciences and natural resources</td>\n",
              "      <td>Food science</td>\n",
              "      <td>2008</td>\n",
              "      <td>96.0</td>\n",
              "    </tr>\n",
              "  </tbody>\n",
              "</table>\n",
              "</div>"
            ],
            "text/plain": [
              "     broad_field                                  major_field  ...  year  n_phds\n",
              "0  Life sciences  Agricultural sciences and natural resources  ...  2008   111.0\n",
              "1  Life sciences  Agricultural sciences and natural resources  ...  2008    28.0\n",
              "2  Life sciences  Agricultural sciences and natural resources  ...  2008     3.0\n",
              "3  Life sciences  Agricultural sciences and natural resources  ...  2008    68.0\n",
              "4  Life sciences  Agricultural sciences and natural resources  ...  2008    41.0\n",
              "5  Life sciences  Agricultural sciences and natural resources  ...  2008    18.0\n",
              "6  Life sciences  Agricultural sciences and natural resources  ...  2008    77.0\n",
              "7  Life sciences  Agricultural sciences and natural resources  ...  2008   182.0\n",
              "8  Life sciences  Agricultural sciences and natural resources  ...  2008    52.0\n",
              "9  Life sciences  Agricultural sciences and natural resources  ...  2008    96.0\n",
              "\n",
              "[10 rows x 5 columns]"
            ]
          },
          "metadata": {
            "tags": []
          },
          "execution_count": 20
        }
      ]
    },
    {
      "cell_type": "code",
      "metadata": {
        "id": "oqDaWf7WXGOi",
        "colab_type": "code",
        "outputId": "07ef819e-3cf8-4394-a48d-947da4c09f1d",
        "colab": {
          "base_uri": "https://localhost:8080/",
          "height": 297
        }
      },
      "source": [
        "phd.describe()"
      ],
      "execution_count": 0,
      "outputs": [
        {
          "output_type": "execute_result",
          "data": {
            "text/html": [
              "<div>\n",
              "<style scoped>\n",
              "    .dataframe tbody tr th:only-of-type {\n",
              "        vertical-align: middle;\n",
              "    }\n",
              "\n",
              "    .dataframe tbody tr th {\n",
              "        vertical-align: top;\n",
              "    }\n",
              "\n",
              "    .dataframe thead th {\n",
              "        text-align: right;\n",
              "    }\n",
              "</style>\n",
              "<table border=\"1\" class=\"dataframe\">\n",
              "  <thead>\n",
              "    <tr style=\"text-align: right;\">\n",
              "      <th></th>\n",
              "      <th>year</th>\n",
              "      <th>n_phds</th>\n",
              "    </tr>\n",
              "  </thead>\n",
              "  <tbody>\n",
              "    <tr>\n",
              "      <th>count</th>\n",
              "      <td>3370.000000</td>\n",
              "      <td>3092.000000</td>\n",
              "    </tr>\n",
              "    <tr>\n",
              "      <th>mean</th>\n",
              "      <td>2012.500000</td>\n",
              "      <td>165.904916</td>\n",
              "    </tr>\n",
              "    <tr>\n",
              "      <th>std</th>\n",
              "      <td>2.872708</td>\n",
              "      <td>337.479796</td>\n",
              "    </tr>\n",
              "    <tr>\n",
              "      <th>min</th>\n",
              "      <td>2008.000000</td>\n",
              "      <td>0.000000</td>\n",
              "    </tr>\n",
              "    <tr>\n",
              "      <th>25%</th>\n",
              "      <td>2010.000000</td>\n",
              "      <td>41.000000</td>\n",
              "    </tr>\n",
              "    <tr>\n",
              "      <th>50%</th>\n",
              "      <td>2012.500000</td>\n",
              "      <td>85.000000</td>\n",
              "    </tr>\n",
              "    <tr>\n",
              "      <th>75%</th>\n",
              "      <td>2015.000000</td>\n",
              "      <td>178.000000</td>\n",
              "    </tr>\n",
              "    <tr>\n",
              "      <th>max</th>\n",
              "      <td>2017.000000</td>\n",
              "      <td>5302.000000</td>\n",
              "    </tr>\n",
              "  </tbody>\n",
              "</table>\n",
              "</div>"
            ],
            "text/plain": [
              "              year       n_phds\n",
              "count  3370.000000  3092.000000\n",
              "mean   2012.500000   165.904916\n",
              "std       2.872708   337.479796\n",
              "min    2008.000000     0.000000\n",
              "25%    2010.000000    41.000000\n",
              "50%    2012.500000    85.000000\n",
              "75%    2015.000000   178.000000\n",
              "max    2017.000000  5302.000000"
            ]
          },
          "metadata": {
            "tags": []
          },
          "execution_count": 21
        }
      ]
    },
    {
      "cell_type": "code",
      "metadata": {
        "id": "drvkTFg7VHBa",
        "colab_type": "code",
        "outputId": "2ce5611d-b184-4042-f8bd-9b042d3bebd3",
        "colab": {
          "base_uri": "https://localhost:8080/",
          "height": 514
        }
      },
      "source": [
        "null_phd = phd[phd['n_phds'].isnull()]\n",
        "null_phd.head(15)"
      ],
      "execution_count": 0,
      "outputs": [
        {
          "output_type": "execute_result",
          "data": {
            "text/html": [
              "<div>\n",
              "<style scoped>\n",
              "    .dataframe tbody tr th:only-of-type {\n",
              "        vertical-align: middle;\n",
              "    }\n",
              "\n",
              "    .dataframe tbody tr th {\n",
              "        vertical-align: top;\n",
              "    }\n",
              "\n",
              "    .dataframe thead th {\n",
              "        text-align: right;\n",
              "    }\n",
              "</style>\n",
              "<table border=\"1\" class=\"dataframe\">\n",
              "  <thead>\n",
              "    <tr style=\"text-align: right;\">\n",
              "      <th></th>\n",
              "      <th>broad_field</th>\n",
              "      <th>major_field</th>\n",
              "      <th>field</th>\n",
              "      <th>year</th>\n",
              "      <th>n_phds</th>\n",
              "    </tr>\n",
              "  </thead>\n",
              "  <tbody>\n",
              "    <tr>\n",
              "      <th>15</th>\n",
              "      <td>Life sciences</td>\n",
              "      <td>Agricultural sciences and natural resources</td>\n",
              "      <td>Natural resource and environmental policy</td>\n",
              "      <td>2008</td>\n",
              "      <td>NaN</td>\n",
              "    </tr>\n",
              "    <tr>\n",
              "      <th>17</th>\n",
              "      <td>Life sciences</td>\n",
              "      <td>Agricultural sciences and natural resources</td>\n",
              "      <td>Natural resources and environmental economics ...</td>\n",
              "      <td>2008</td>\n",
              "      <td>NaN</td>\n",
              "    </tr>\n",
              "    <tr>\n",
              "      <th>37</th>\n",
              "      <td>Life sciences</td>\n",
              "      <td>Biological and biomedical sciences</td>\n",
              "      <td>Computational biology</td>\n",
              "      <td>2008</td>\n",
              "      <td>NaN</td>\n",
              "    </tr>\n",
              "    <tr>\n",
              "      <th>42</th>\n",
              "      <td>Life sciences</td>\n",
              "      <td>Biological and biomedical sciences</td>\n",
              "      <td>Environmental toxicologyc</td>\n",
              "      <td>2008</td>\n",
              "      <td>NaN</td>\n",
              "    </tr>\n",
              "    <tr>\n",
              "      <th>49</th>\n",
              "      <td>Life sciences</td>\n",
              "      <td>Biological and biomedical sciences</td>\n",
              "      <td>Molecular medicine</td>\n",
              "      <td>2008</td>\n",
              "      <td>NaN</td>\n",
              "    </tr>\n",
              "    <tr>\n",
              "      <th>59</th>\n",
              "      <td>Life sciences</td>\n",
              "      <td>Biological and biomedical sciences</td>\n",
              "      <td>Structural biology</td>\n",
              "      <td>2008</td>\n",
              "      <td>NaN</td>\n",
              "    </tr>\n",
              "    <tr>\n",
              "      <th>61</th>\n",
              "      <td>Life sciences</td>\n",
              "      <td>Biological and biomedical sciences</td>\n",
              "      <td>Virology</td>\n",
              "      <td>2008</td>\n",
              "      <td>NaN</td>\n",
              "    </tr>\n",
              "    <tr>\n",
              "      <th>62</th>\n",
              "      <td>Life sciences</td>\n",
              "      <td>Biological and biomedical sciences</td>\n",
              "      <td>Wildlife biology</td>\n",
              "      <td>2008</td>\n",
              "      <td>NaN</td>\n",
              "    </tr>\n",
              "    <tr>\n",
              "      <th>68</th>\n",
              "      <td>Life sciences</td>\n",
              "      <td>Health sciences</td>\n",
              "      <td>Gerontology (health sciences)</td>\n",
              "      <td>2008</td>\n",
              "      <td>NaN</td>\n",
              "    </tr>\n",
              "    <tr>\n",
              "      <th>69</th>\n",
              "      <td>Life sciences</td>\n",
              "      <td>Health sciences</td>\n",
              "      <td>Health and behavior</td>\n",
              "      <td>2008</td>\n",
              "      <td>NaN</td>\n",
              "    </tr>\n",
              "    <tr>\n",
              "      <th>70</th>\n",
              "      <td>Life sciences</td>\n",
              "      <td>Health sciences</td>\n",
              "      <td>Health services research</td>\n",
              "      <td>2008</td>\n",
              "      <td>NaN</td>\n",
              "    </tr>\n",
              "    <tr>\n",
              "      <th>73</th>\n",
              "      <td>Life sciences</td>\n",
              "      <td>Health sciences</td>\n",
              "      <td>Medical physics, radiological science</td>\n",
              "      <td>2008</td>\n",
              "      <td>NaN</td>\n",
              "    </tr>\n",
              "    <tr>\n",
              "      <th>75</th>\n",
              "      <td>Life sciences</td>\n",
              "      <td>Health sciences</td>\n",
              "      <td>Oral biology, oral pathology</td>\n",
              "      <td>2008</td>\n",
              "      <td>NaN</td>\n",
              "    </tr>\n",
              "    <tr>\n",
              "      <th>84</th>\n",
              "      <td>Life sciences</td>\n",
              "      <td>Chemistry</td>\n",
              "      <td>Chemical biology</td>\n",
              "      <td>2008</td>\n",
              "      <td>NaN</td>\n",
              "    </tr>\n",
              "    <tr>\n",
              "      <th>86</th>\n",
              "      <td>Life sciences</td>\n",
              "      <td>Chemistry</td>\n",
              "      <td>Medicinal chemistryh</td>\n",
              "      <td>2008</td>\n",
              "      <td>NaN</td>\n",
              "    </tr>\n",
              "  </tbody>\n",
              "</table>\n",
              "</div>"
            ],
            "text/plain": [
              "      broad_field                                  major_field  ...  year  n_phds\n",
              "15  Life sciences  Agricultural sciences and natural resources  ...  2008     NaN\n",
              "17  Life sciences  Agricultural sciences and natural resources  ...  2008     NaN\n",
              "37  Life sciences           Biological and biomedical sciences  ...  2008     NaN\n",
              "42  Life sciences           Biological and biomedical sciences  ...  2008     NaN\n",
              "49  Life sciences           Biological and biomedical sciences  ...  2008     NaN\n",
              "59  Life sciences           Biological and biomedical sciences  ...  2008     NaN\n",
              "61  Life sciences           Biological and biomedical sciences  ...  2008     NaN\n",
              "62  Life sciences           Biological and biomedical sciences  ...  2008     NaN\n",
              "68  Life sciences                              Health sciences  ...  2008     NaN\n",
              "69  Life sciences                              Health sciences  ...  2008     NaN\n",
              "70  Life sciences                              Health sciences  ...  2008     NaN\n",
              "73  Life sciences                              Health sciences  ...  2008     NaN\n",
              "75  Life sciences                              Health sciences  ...  2008     NaN\n",
              "84  Life sciences                                    Chemistry  ...  2008     NaN\n",
              "86  Life sciences                                    Chemistry  ...  2008     NaN\n",
              "\n",
              "[15 rows x 5 columns]"
            ]
          },
          "metadata": {
            "tags": []
          },
          "execution_count": 22
        }
      ]
    },
    {
      "cell_type": "code",
      "metadata": {
        "id": "58kiYmIiXZxG",
        "colab_type": "code",
        "outputId": "60a2efd5-d039-4f6f-8831-5effd3b0efb0",
        "colab": {
          "base_uri": "https://localhost:8080/",
          "height": 297
        }
      },
      "source": [
        "null_phd.describe()\n",
        "# 278 null values out of 3370"
      ],
      "execution_count": 0,
      "outputs": [
        {
          "output_type": "execute_result",
          "data": {
            "text/html": [
              "<div>\n",
              "<style scoped>\n",
              "    .dataframe tbody tr th:only-of-type {\n",
              "        vertical-align: middle;\n",
              "    }\n",
              "\n",
              "    .dataframe tbody tr th {\n",
              "        vertical-align: top;\n",
              "    }\n",
              "\n",
              "    .dataframe thead th {\n",
              "        text-align: right;\n",
              "    }\n",
              "</style>\n",
              "<table border=\"1\" class=\"dataframe\">\n",
              "  <thead>\n",
              "    <tr style=\"text-align: right;\">\n",
              "      <th></th>\n",
              "      <th>year</th>\n",
              "      <th>n_phds</th>\n",
              "    </tr>\n",
              "  </thead>\n",
              "  <tbody>\n",
              "    <tr>\n",
              "      <th>count</th>\n",
              "      <td>278.000000</td>\n",
              "      <td>0.0</td>\n",
              "    </tr>\n",
              "    <tr>\n",
              "      <th>mean</th>\n",
              "      <td>2011.061151</td>\n",
              "      <td>NaN</td>\n",
              "    </tr>\n",
              "    <tr>\n",
              "      <th>std</th>\n",
              "      <td>2.570283</td>\n",
              "      <td>NaN</td>\n",
              "    </tr>\n",
              "    <tr>\n",
              "      <th>min</th>\n",
              "      <td>2008.000000</td>\n",
              "      <td>NaN</td>\n",
              "    </tr>\n",
              "    <tr>\n",
              "      <th>25%</th>\n",
              "      <td>2009.000000</td>\n",
              "      <td>NaN</td>\n",
              "    </tr>\n",
              "    <tr>\n",
              "      <th>50%</th>\n",
              "      <td>2011.000000</td>\n",
              "      <td>NaN</td>\n",
              "    </tr>\n",
              "    <tr>\n",
              "      <th>75%</th>\n",
              "      <td>2013.000000</td>\n",
              "      <td>NaN</td>\n",
              "    </tr>\n",
              "    <tr>\n",
              "      <th>max</th>\n",
              "      <td>2017.000000</td>\n",
              "      <td>NaN</td>\n",
              "    </tr>\n",
              "  </tbody>\n",
              "</table>\n",
              "</div>"
            ],
            "text/plain": [
              "              year  n_phds\n",
              "count   278.000000     0.0\n",
              "mean   2011.061151     NaN\n",
              "std       2.570283     NaN\n",
              "min    2008.000000     NaN\n",
              "25%    2009.000000     NaN\n",
              "50%    2011.000000     NaN\n",
              "75%    2013.000000     NaN\n",
              "max    2017.000000     NaN"
            ]
          },
          "metadata": {
            "tags": []
          },
          "execution_count": 23
        }
      ]
    },
    {
      "cell_type": "code",
      "metadata": {
        "id": "vbxDsAJ2VPH7",
        "colab_type": "code",
        "outputId": "f9f02c6f-0951-4bbc-f9c5-0cc696b9dee9",
        "colab": {
          "base_uri": "https://localhost:8080/",
          "height": 170
        }
      },
      "source": [
        "phd['n_phds'].describe()"
      ],
      "execution_count": 0,
      "outputs": [
        {
          "output_type": "execute_result",
          "data": {
            "text/plain": [
              "count    3092.000000\n",
              "mean      165.904916\n",
              "std       337.479796\n",
              "min         0.000000\n",
              "25%        41.000000\n",
              "50%        85.000000\n",
              "75%       178.000000\n",
              "max      5302.000000\n",
              "Name: n_phds, dtype: float64"
            ]
          },
          "metadata": {
            "tags": []
          },
          "execution_count": 24
        }
      ]
    },
    {
      "cell_type": "code",
      "metadata": {
        "id": "-gOJavYuU8Vy",
        "colab_type": "code",
        "outputId": "51a168f0-f3e1-444c-db81-8ad216b5bd0f",
        "colab": {
          "base_uri": "https://localhost:8080/",
          "height": 297
        }
      },
      "source": [
        "phd['n_phds'].fillna(value=0, inplace=True)\n",
        "phd.describe()"
      ],
      "execution_count": 0,
      "outputs": [
        {
          "output_type": "execute_result",
          "data": {
            "text/html": [
              "<div>\n",
              "<style scoped>\n",
              "    .dataframe tbody tr th:only-of-type {\n",
              "        vertical-align: middle;\n",
              "    }\n",
              "\n",
              "    .dataframe tbody tr th {\n",
              "        vertical-align: top;\n",
              "    }\n",
              "\n",
              "    .dataframe thead th {\n",
              "        text-align: right;\n",
              "    }\n",
              "</style>\n",
              "<table border=\"1\" class=\"dataframe\">\n",
              "  <thead>\n",
              "    <tr style=\"text-align: right;\">\n",
              "      <th></th>\n",
              "      <th>year</th>\n",
              "      <th>n_phds</th>\n",
              "    </tr>\n",
              "  </thead>\n",
              "  <tbody>\n",
              "    <tr>\n",
              "      <th>count</th>\n",
              "      <td>3370.000000</td>\n",
              "      <td>3370.000000</td>\n",
              "    </tr>\n",
              "    <tr>\n",
              "      <th>mean</th>\n",
              "      <td>2012.500000</td>\n",
              "      <td>152.218991</td>\n",
              "    </tr>\n",
              "    <tr>\n",
              "      <th>std</th>\n",
              "      <td>2.872708</td>\n",
              "      <td>326.463481</td>\n",
              "    </tr>\n",
              "    <tr>\n",
              "      <th>min</th>\n",
              "      <td>2008.000000</td>\n",
              "      <td>0.000000</td>\n",
              "    </tr>\n",
              "    <tr>\n",
              "      <th>25%</th>\n",
              "      <td>2010.000000</td>\n",
              "      <td>31.000000</td>\n",
              "    </tr>\n",
              "    <tr>\n",
              "      <th>50%</th>\n",
              "      <td>2012.500000</td>\n",
              "      <td>77.000000</td>\n",
              "    </tr>\n",
              "    <tr>\n",
              "      <th>75%</th>\n",
              "      <td>2015.000000</td>\n",
              "      <td>164.000000</td>\n",
              "    </tr>\n",
              "    <tr>\n",
              "      <th>max</th>\n",
              "      <td>2017.000000</td>\n",
              "      <td>5302.000000</td>\n",
              "    </tr>\n",
              "  </tbody>\n",
              "</table>\n",
              "</div>"
            ],
            "text/plain": [
              "              year       n_phds\n",
              "count  3370.000000  3370.000000\n",
              "mean   2012.500000   152.218991\n",
              "std       2.872708   326.463481\n",
              "min    2008.000000     0.000000\n",
              "25%    2010.000000    31.000000\n",
              "50%    2012.500000    77.000000\n",
              "75%    2015.000000   164.000000\n",
              "max    2017.000000  5302.000000"
            ]
          },
          "metadata": {
            "tags": []
          },
          "execution_count": 25
        }
      ]
    },
    {
      "cell_type": "code",
      "metadata": {
        "id": "VpJ-YDO8XuUz",
        "colab_type": "code",
        "outputId": "4fb0d809-f56c-45e9-c71a-f9e2ff9c7bdb",
        "colab": {
          "base_uri": "https://localhost:8080/",
          "height": 170
        }
      },
      "source": [
        "phd['n_phds'].describe()\n",
        "# no null values now, all filled with 0"
      ],
      "execution_count": 0,
      "outputs": [
        {
          "output_type": "execute_result",
          "data": {
            "text/plain": [
              "count    3370.000000\n",
              "mean      152.218991\n",
              "std       326.463481\n",
              "min         0.000000\n",
              "25%        31.000000\n",
              "50%        77.000000\n",
              "75%       164.000000\n",
              "max      5302.000000\n",
              "Name: n_phds, dtype: float64"
            ]
          },
          "metadata": {
            "tags": []
          },
          "execution_count": 26
        }
      ]
    },
    {
      "cell_type": "code",
      "metadata": {
        "id": "z2BNDjuCqJdk",
        "colab_type": "code",
        "outputId": "3e950612-a094-4ea6-86f2-fe0aeaa5f973",
        "colab": {
          "base_uri": "https://localhost:8080/",
          "height": 282
        }
      },
      "source": [
        "phd['n_phds'].plot(kind='hist', alpha=0.5)"
      ],
      "execution_count": 0,
      "outputs": [
        {
          "output_type": "execute_result",
          "data": {
            "text/plain": [
              "<matplotlib.axes._subplots.AxesSubplot at 0x7f3595ba9b00>"
            ]
          },
          "metadata": {
            "tags": []
          },
          "execution_count": 27
        },
        {
          "output_type": "display_data",
          "data": {
            "image/png": "[encoded data removed]",
            "text/plain": [
              "<Figure size 432x288 with 1 Axes>"
            ]
          },
          "metadata": {
            "tags": []
          }
        }
      ]
    },
    {
      "cell_type": "code",
      "metadata": {
        "id": "mAFSFUoCuHU8",
        "colab_type": "code",
        "outputId": "3908ba7f-960f-409c-ac2b-f1493c6b294c",
        "colab": {
          "base_uri": "https://localhost:8080/",
          "height": 204
        }
      },
      "source": [
        "phd.tail()"
      ],
      "execution_count": 0,
      "outputs": [
        {
          "output_type": "execute_result",
          "data": {
            "text/html": [
              "<div>\n",
              "<style scoped>\n",
              "    .dataframe tbody tr th:only-of-type {\n",
              "        vertical-align: middle;\n",
              "    }\n",
              "\n",
              "    .dataframe tbody tr th {\n",
              "        vertical-align: top;\n",
              "    }\n",
              "\n",
              "    .dataframe thead th {\n",
              "        text-align: right;\n",
              "    }\n",
              "</style>\n",
              "<table border=\"1\" class=\"dataframe\">\n",
              "  <thead>\n",
              "    <tr style=\"text-align: right;\">\n",
              "      <th></th>\n",
              "      <th>broad_field</th>\n",
              "      <th>major_field</th>\n",
              "      <th>field</th>\n",
              "      <th>year</th>\n",
              "      <th>n_phds</th>\n",
              "    </tr>\n",
              "  </thead>\n",
              "  <tbody>\n",
              "    <tr>\n",
              "      <th>3365</th>\n",
              "      <td>Other</td>\n",
              "      <td>Non-S&amp;E fields nec</td>\n",
              "      <td>Library science</td>\n",
              "      <td>2017</td>\n",
              "      <td>47.0</td>\n",
              "    </tr>\n",
              "    <tr>\n",
              "      <th>3366</th>\n",
              "      <td>Other</td>\n",
              "      <td>Non-S&amp;E fields nec</td>\n",
              "      <td>Parks, sports, recreation, leisure and fitness</td>\n",
              "      <td>2017</td>\n",
              "      <td>49.0</td>\n",
              "    </tr>\n",
              "    <tr>\n",
              "      <th>3367</th>\n",
              "      <td>Other</td>\n",
              "      <td>Non-S&amp;E fields nec</td>\n",
              "      <td>Public administration</td>\n",
              "      <td>2017</td>\n",
              "      <td>185.0</td>\n",
              "    </tr>\n",
              "    <tr>\n",
              "      <th>3368</th>\n",
              "      <td>Other</td>\n",
              "      <td>Non-S&amp;E fields nec</td>\n",
              "      <td>Social work</td>\n",
              "      <td>2017</td>\n",
              "      <td>298.0</td>\n",
              "    </tr>\n",
              "    <tr>\n",
              "      <th>3369</th>\n",
              "      <td>Other</td>\n",
              "      <td>Non-S&amp;E fields nec</td>\n",
              "      <td>Other fields nec</td>\n",
              "      <td>2017</td>\n",
              "      <td>103.0</td>\n",
              "    </tr>\n",
              "  </tbody>\n",
              "</table>\n",
              "</div>"
            ],
            "text/plain": [
              "     broad_field         major_field  ...  year  n_phds\n",
              "3365       Other  Non-S&E fields nec  ...  2017    47.0\n",
              "3366       Other  Non-S&E fields nec  ...  2017    49.0\n",
              "3367       Other  Non-S&E fields nec  ...  2017   185.0\n",
              "3368       Other  Non-S&E fields nec  ...  2017   298.0\n",
              "3369       Other  Non-S&E fields nec  ...  2017   103.0\n",
              "\n",
              "[5 rows x 5 columns]"
            ]
          },
          "metadata": {
            "tags": []
          },
          "execution_count": 28
        }
      ]
    },
    {
      "cell_type": "code",
      "metadata": {
        "id": "ZuZ7uCztxKU7",
        "colab_type": "code",
        "colab": {}
      },
      "source": [
        ""
      ],
      "execution_count": 0,
      "outputs": []
    },
    {
      "cell_type": "code",
      "metadata": {
        "id": "FstQz7FCvBtR",
        "colab_type": "code",
        "outputId": "e143b6b2-2db5-406a-ab59-8a44bbc15a10",
        "colab": {
          "base_uri": "https://localhost:8080/",
          "height": 1000
        }
      },
      "source": [
        "field = phd['field'].values\n",
        "f = np.unique(field)\n",
        "f"
      ],
      "execution_count": 0,
      "outputs": [
        {
          "output_type": "execute_result",
          "data": {
            "text/plain": [
              "array(['Accounting', 'Acoustics',\n",
              "       'Adult and continuing teacher education', 'African history',\n",
              "       'Agricultural and horticultural plant breeding',\n",
              "       'Agricultural animal breeding', 'Agricultural economics',\n",
              "       'Agricultural education', 'Agricultural engineering',\n",
              "       'Agricultural sciences and natural resources, generala',\n",
              "       'Agricultural sciences and natural resources, otherb',\n",
              "       'Agronomy and crop science', 'Algebra',\n",
              "       'American history, United States and Canada',\n",
              "       'American literature, United States and Canada',\n",
              "       'American, U.S. studies', 'Analysis and functional analysis',\n",
              "       'Analytical chemistry', 'Anatomy', 'Animal nutrition',\n",
              "       'Animal science, poultry or avian', 'Animal sciences, other',\n",
              "       'Anthropology, cultural', 'Anthropology, generalj',\n",
              "       'Anthropology, physical and biological', 'Applied linguistics',\n",
              "       'Applied mathematics', 'Applied physics',\n",
              "       'Arabic language and literature', 'Archaeology (humanities)',\n",
              "       'Architecture and environmental design',\n",
              "       'Area, ethnic, cultural studiesk', 'Art education',\n",
              "       'Art history, criticism, and conservation', 'Asian history',\n",
              "       'Astronomy', 'Astronomy and astrophysics',\n",
              "       'Astronomy and astrophysics, other', 'Astrophysics',\n",
              "       'Atmospheric chemistry and climatology',\n",
              "       'Atmospheric physics and dynamics',\n",
              "       'Atmospheric science and meteorology',\n",
              "       'Atmospheric science and meteorology, general',\n",
              "       'Atmospheric science and meteorology, other',\n",
              "       'Atomic, molecular, chemical physics', 'Bacteriology',\n",
              "       'Banking/financial services', 'Behavioral analysis',\n",
              "       'Bible, biblical studies', 'Bilingual and multilingual education',\n",
              "       'Biochemistry (biological sciences)', 'Bioinformatics',\n",
              "       'Biological and biomedical sciences, general',\n",
              "       'Biological and biomedical sciences, other', 'Biomedical sciences',\n",
              "       'Biometrics and biostatistics', 'Biophysics (biological sciences)',\n",
              "       'Biophysics (physics)', 'Biotechnology',\n",
              "       'Botany and plant biology',\n",
              "       'Business administration and management', 'Business education',\n",
              "       'Business management and administration, general',\n",
              "       'Business management and administration, other',\n",
              "       'Business, managerial economics', 'Cancer biology',\n",
              "       'Cell, cellular biology, and histology',\n",
              "       'Ceramic sciences engineering', 'Chemical biology',\n",
              "       'Chemistry, general', 'Chemistry, other',\n",
              "       'Chinese language and literature', 'Classics',\n",
              "       'Clinical psychology', 'Cognitive neuroscience',\n",
              "       'Cognitive psychology and psycholinguistics',\n",
              "       'Communication research', 'Communication theory',\n",
              "       'Communication, general', 'Communication, other',\n",
              "       'Communications engineering', 'Community psychology',\n",
              "       'Comparative literature', 'Comparative psychology',\n",
              "       'Computational biology',\n",
              "       'Computer and information sciences, general',\n",
              "       'Computer and information sciences, other', 'Computer engineering',\n",
              "       'Computer science', 'Computing theory and practice',\n",
              "       'Condensed matter, low-temperature physics', 'Counseling',\n",
              "       'Counseling education, counseling and guidance',\n",
              "       'Creative writing', 'Criminal justice and corrections',\n",
              "       'Criminology', 'Curriculum and instruction', 'Dance',\n",
              "       'Demography and population studies',\n",
              "       'Developmental and child psychology',\n",
              "       'Developmental biology and embryology', 'Drama, theater arts',\n",
              "       'Ecology', 'Econometrics', 'Education, general',\n",
              "       'Education, other', 'Educational administration and supervision',\n",
              "       'Educational and human resource studies, development',\n",
              "       'Educational and instructional media design',\n",
              "       'Educational and instructional technology',\n",
              "       'Educational assessment, testing, measurement',\n",
              "       'Educational leadership', 'Educational policy analysis',\n",
              "       'Educational psychology (education)',\n",
              "       'Educational psychology (psychology)',\n",
              "       'Educational statistics, research methods',\n",
              "       'Elementary particle physics', 'Elementary teacher education',\n",
              "       'Endocrinology', 'Engineering management, administration',\n",
              "       'Engineering mechanics', 'Engineering physics',\n",
              "       'Engineering science', 'Engineering, general',\n",
              "       'Engineering, other', 'English as a second or foreign language',\n",
              "       'English education', 'English language',\n",
              "       'English literature, British and Commonwealth', 'Entomology',\n",
              "       'Environmental health', 'Environmental science',\n",
              "       'Environmental toxicologyc',\n",
              "       'Environmental, environmental health engineeringl', 'Epidemiology',\n",
              "       'Ethics', 'European history', 'Evolutionary biology',\n",
              "       'Experimental psychology', 'Family psychology',\n",
              "       'Family, consumer sciences and human sciences',\n",
              "       'Family, consumer, and human sciences',\n",
              "       'Film, cinema, video studies',\n",
              "       'Film, radio, TV and digital communication', 'Finance',\n",
              "       'Fishing and fisheries sciences and management', 'Folklore',\n",
              "       'Food science', 'Food science and technology, other',\n",
              "       'Foreign languages and literatures, other',\n",
              "       'Foreign languages education',\n",
              "       'Forest management, forest resources management',\n",
              "       'Forest sciences and biology', 'Forestry, other',\n",
              "       'French language and literature', \"Gender and women's studies\",\n",
              "       'Genetics, genomics, human and animal', 'Geochemistry',\n",
              "       'Geography', 'Geological and earth sciences, general',\n",
              "       'Geological and earth sciences, other', 'Geological sciences',\n",
              "       'Geology', 'Geometry, geometric analysis',\n",
              "       'Geomorphology, glacial geology', 'Geophysics and seismology',\n",
              "       'Geotechnical and geoenvironmental engineering',\n",
              "       'Germanic language and literature',\n",
              "       'Gerontology (health sciences)', 'Gerontology (social sciences)',\n",
              "       'Health and behavior', 'Health education',\n",
              "       'Health policy analysis', 'Health sciences, general',\n",
              "       'Health sciences, other', 'Health services research',\n",
              "       'Health systems administration', 'Health, medical psychology',\n",
              "       'Higher education evaluation and research', 'History, general',\n",
              "       'History, other', 'History, science and technology and society',\n",
              "       'Horticulture science',\n",
              "       'Hospitality, food service and tourism management',\n",
              "       'Human development and family studies',\n",
              "       'Human resources development', 'Humanities, general',\n",
              "       'Humanities, other', 'Hydrology and water resources', 'Immunology',\n",
              "       'Industrial and organizational psychology',\n",
              "       'Information science, systems', 'Inorganic chemistry',\n",
              "       'International business, trade, commerce',\n",
              "       'International education',\n",
              "       'International relations, international affairs',\n",
              "       'Italian language and literature',\n",
              "       'Japanese language and literature', 'Jewish, Judaic studies',\n",
              "       'Kinesiology, exercise sciencef', 'Latin American history',\n",
              "       'Latin American languages and literature', 'Law',\n",
              "       'Letters, general', 'Letters, other', 'Library science',\n",
              "       'Linguistics', 'Literacy and reading educationm', 'Logic',\n",
              "       'Management information systems, business statistics',\n",
              "       'Marine biology and biological oceanography', 'Marine sciences',\n",
              "       'Marketing management and research',\n",
              "       'Marriage and family therapy, counseling',\n",
              "       'Mass communication, media studies',\n",
              "       'Mathematics and statistics, general',\n",
              "       'Mathematics and statistics, other', 'Mathematics education',\n",
              "       'Medical physics, radiological science', 'Medicinal chemistryh',\n",
              "       'Metallurgical engineering', 'Meteorology', 'Microbiology',\n",
              "       'Middle, Near East history', 'Mineralogy and petrology',\n",
              "       'Mining and mineral engineering', 'Molecular biology',\n",
              "       'Molecular medicine', 'Music', 'Music education',\n",
              "       'Music performance', 'Music theory and composition',\n",
              "       'Music, other', 'Musicology and ethnomusicology',\n",
              "       'Natural resource and environmental policy',\n",
              "       'Natural resources and conservation',\n",
              "       'Natural resources and environmental economics (agricultural sciences)',\n",
              "       'Natural resources and environmental economics (social sciences)',\n",
              "       'Neuropsychology, physiological psychologyi',\n",
              "       'Neurosciences, neurobiologye', 'Nuclear engineering',\n",
              "       'Nuclear physics', 'Number theory', 'Nursing education',\n",
              "       'Nursing science', 'Nutrition sciences',\n",
              "       'Ocean and marine sciences', 'Ocean and marine sciences, other',\n",
              "       'Ocean engineering', 'Oceanography, chemical and physical',\n",
              "       'Operations research (business)',\n",
              "       'Operations research (engineering)',\n",
              "       'Operations research (mathematics)', 'Optics, photonics',\n",
              "       'Oral biology, oral pathology', 'Organic chemistry',\n",
              "       'Organizational behavior', 'Other economics', 'Other fields nec',\n",
              "       'Paleontology', 'Parasitology',\n",
              "       'Parks, sports, recreation, leisure and fitness',\n",
              "       'Pathology, human and animal', 'Personality psychology',\n",
              "       'Petroleum engineering', 'Pharmaceutical sciencesg',\n",
              "       'Pharmacology, human and animal', 'Philosophy',\n",
              "       'Physical chemistry', 'Physical education and coaching', 'Physics',\n",
              "       'Physics, general', 'Physics, other',\n",
              "       'Physiology, human and animal', 'Plant genetics',\n",
              "       'Plant pathology and phytopathology (biological sciences)',\n",
              "       'Plant pathology and phytopathology, agricultural',\n",
              "       'Plant physiology', 'Plant sciences, other',\n",
              "       'Plasma, high-temperature physics', 'Polymer chemistry',\n",
              "       'Polymer physics', 'Polymer, plastics engineering',\n",
              "       'Pre-elementary, early childhood teacher education',\n",
              "       'Psychology, general', 'Psychology, other',\n",
              "       'Psychometrics and quantitative psychology',\n",
              "       'Public administration', 'Public health', 'Public policy analysis',\n",
              "       'Rehabilitation, therapeutic services',\n",
              "       'Religion, religious studies', 'Rhetoric and composition',\n",
              "       'Robotics', 'Russian language and literature',\n",
              "       'School psychology (education)', 'School psychology (psychology)',\n",
              "       'Science education', 'Secondary teacher education',\n",
              "       'Slavic (other than Russian)',\n",
              "       'Social and philosophical foundations of education',\n",
              "       'Social psychology', 'Social science education', 'Social sciences',\n",
              "       'Social sciences, general', 'Social sciences, other',\n",
              "       'Social work', 'Soil chemistry, microbiology',\n",
              "       'Soil sciences, other', 'Spanish language and literature',\n",
              "       'Special education', 'Speech and rhetorical studies',\n",
              "       'Speech-language pathology and audiology',\n",
              "       'Statistics (mathematics)', 'Statistics (social sciences)',\n",
              "       'Stratigraphy and sedimentation', 'Structural biology',\n",
              "       'Structural engineering', 'Systems engineering',\n",
              "       'Teacher education and professional development, othern',\n",
              "       'Theology, religious education', 'Theoretical chemistry',\n",
              "       'Topology and foundations', 'Toxicology',\n",
              "       'Trade and industrial education',\n",
              "       'Transportation and highway engineering',\n",
              "       'Urban education and leadership', 'Urban studies, affairs',\n",
              "       'Urban, city, community and regional planning',\n",
              "       'Veterinary sciences', 'Virology', 'Wildlife biology',\n",
              "       'Wildlife, range management',\n",
              "       'Wood science, pulp and paper technology',\n",
              "       'Workforce education and development', 'Zoology'], dtype=object)"
            ]
          },
          "metadata": {
            "tags": []
          },
          "execution_count": 29
        }
      ]
    },
    {
      "cell_type": "code",
      "metadata": {
        "id": "5_sxD1MGNsXK",
        "colab_type": "code",
        "outputId": "e8a20899-6889-4a58-de63-eafe9cd81d6d",
        "colab": {
          "base_uri": "https://localhost:8080/",
          "height": 68
        }
      },
      "source": [
        "b = phd['broad_field'].values\n",
        "broad = np.unique(b)\n",
        "broad"
      ],
      "execution_count": 0,
      "outputs": [
        {
          "output_type": "execute_result",
          "data": {
            "text/plain": [
              "array(['Education', 'Engineering', 'Humanities and arts', 'Life sciences',\n",
              "       'Mathematics and computer sciences', 'Other',\n",
              "       'Psychology and social sciences'], dtype=object)"
            ]
          },
          "metadata": {
            "tags": []
          },
          "execution_count": 30
        }
      ]
    },
    {
      "cell_type": "code",
      "metadata": {
        "id": "igITwjefvIai",
        "colab_type": "code",
        "outputId": "f6b70f74-a9f4-452f-ce7c-226c3cc47edf",
        "colab": {
          "base_uri": "https://localhost:8080/",
          "height": 238
        }
      },
      "source": [
        "m = phd['major_field'].values\n",
        "major = np.unique(m)\n",
        "major"
      ],
      "execution_count": 0,
      "outputs": [
        {
          "output_type": "execute_result",
          "data": {
            "text/plain": [
              "array(['Agricultural sciences and natural resources', 'Anthropology',\n",
              "       'Biological and biomedical sciences',\n",
              "       'Business management and administration', 'Chemistry',\n",
              "       'Communication', 'Computer and information sciences', 'Economics',\n",
              "       'Education administration', 'Education research',\n",
              "       'Foreign languages and literature',\n",
              "       'Geosciences, atmospheric sciences, and ocean sciences',\n",
              "       'Health sciences', 'History', 'Letters',\n",
              "       'Mathematics and statistics', 'Non-S&E fields nec',\n",
              "       'Other education', 'Other engineering',\n",
              "       'Other humanities and arts', 'Other social sciences',\n",
              "       'Physics and astronomy', 'Psychology', 'Teacher education',\n",
              "       'Teaching fields'], dtype=object)"
            ]
          },
          "metadata": {
            "tags": []
          },
          "execution_count": 31
        }
      ]
    },
    {
      "cell_type": "code",
      "metadata": {
        "id": "XpnRLUwgKDs0",
        "colab_type": "code",
        "outputId": "61f75fe9-191c-49c0-cf8e-b27115274889",
        "colab": {
          "base_uri": "https://localhost:8080/",
          "height": 840
        }
      },
      "source": [
        "fig, ax = plt.subplots(figsize=(15,7))\n",
        "# phd.groupby(['major_field', 'year']).count()['n_phds'].plot(ax=ax)\n",
        "# pd.DataFrame(phd.groupby(['major_field', 'year']).count()['n_phds'])\n",
        "phd.groupby(['major_field', 'year']).count()['n_phds'].unstack().plot(ax=ax)\n",
        "# print(phd.groupby(['major_field', 'year']).n_phds.apply(np.array))"
      ],
      "execution_count": 0,
      "outputs": [
        {
          "output_type": "error",
          "ename": "KeyError",
          "evalue": "ignored",
          "traceback": [
            "\u001b[0;31m---------------------------------------------------------------------------\u001b[0m",
            "\u001b[0;31mValueError\u001b[0m                                Traceback (most recent call last)",
            "\u001b[0;32m/usr/local/lib/python3.6/dist-packages/pandas/core/indexes/multi.py\u001b[0m in \u001b[0;36m_get_level_number\u001b[0;34m(self, level)\u001b[0m\n\u001b[1;32m   1294\u001b[0m         \u001b[0;32mtry\u001b[0m\u001b[0;34m:\u001b[0m\u001b[0;34m\u001b[0m\u001b[0;34m\u001b[0m\u001b[0m\n\u001b[0;32m-> 1295\u001b[0;31m             \u001b[0mlevel\u001b[0m \u001b[0;34m=\u001b[0m \u001b[0mself\u001b[0m\u001b[0;34m.\u001b[0m\u001b[0mnames\u001b[0m\u001b[0;34m.\u001b[0m\u001b[0mindex\u001b[0m\u001b[0;34m(\u001b[0m\u001b[0mlevel\u001b[0m\u001b[0;34m)\u001b[0m\u001b[0;34m\u001b[0m\u001b[0;34m\u001b[0m\u001b[0m\n\u001b[0m\u001b[1;32m   1296\u001b[0m         \u001b[0;32mexcept\u001b[0m \u001b[0mValueError\u001b[0m\u001b[0;34m:\u001b[0m\u001b[0;34m\u001b[0m\u001b[0;34m\u001b[0m\u001b[0m\n",
            "\u001b[0;31mValueError\u001b[0m: False is not in list",
            "\nDuring handling of the above exception, another exception occurred:\n",
            "\u001b[0;31mKeyError\u001b[0m                                  Traceback (most recent call last)",
            "\u001b[0;32m<ipython-input-41-cba72f4ea5cc>\u001b[0m in \u001b[0;36m<module>\u001b[0;34m()\u001b[0m\n\u001b[1;32m      2\u001b[0m \u001b[0;31m# phd.groupby(['major_field', 'year']).count()['n_phds'].plot(ax=ax)\u001b[0m\u001b[0;34m\u001b[0m\u001b[0;34m\u001b[0m\u001b[0;34m\u001b[0m\u001b[0m\n\u001b[1;32m      3\u001b[0m \u001b[0;31m# pd.DataFrame(phd.groupby(['major_field', 'year']).count()['n_phds'])\u001b[0m\u001b[0;34m\u001b[0m\u001b[0;34m\u001b[0m\u001b[0;34m\u001b[0m\u001b[0m\n\u001b[0;32m----> 4\u001b[0;31m \u001b[0mphd\u001b[0m\u001b[0;34m.\u001b[0m\u001b[0mgroupby\u001b[0m\u001b[0;34m(\u001b[0m\u001b[0;34m[\u001b[0m\u001b[0;34m'major_field'\u001b[0m\u001b[0;34m,\u001b[0m \u001b[0;34m'year'\u001b[0m\u001b[0;34m]\u001b[0m\u001b[0;34m)\u001b[0m\u001b[0;34m.\u001b[0m\u001b[0mcount\u001b[0m\u001b[0;34m(\u001b[0m\u001b[0;34m)\u001b[0m\u001b[0;34m[\u001b[0m\u001b[0;34m'n_phds'\u001b[0m\u001b[0;34m]\u001b[0m\u001b[0;34m.\u001b[0m\u001b[0munstack\u001b[0m\u001b[0;34m(\u001b[0m\u001b[0;32mFalse\u001b[0m\u001b[0;34m)\u001b[0m\u001b[0;34m.\u001b[0m\u001b[0mplot\u001b[0m\u001b[0;34m(\u001b[0m\u001b[0max\u001b[0m\u001b[0;34m=\u001b[0m\u001b[0max\u001b[0m\u001b[0;34m)\u001b[0m\u001b[0;34m\u001b[0m\u001b[0;34m\u001b[0m\u001b[0m\n\u001b[0m\u001b[1;32m      5\u001b[0m \u001b[0;31m# print(phd.groupby(['major_field', 'year']).n_phds.apply(np.array))\u001b[0m\u001b[0;34m\u001b[0m\u001b[0;34m\u001b[0m\u001b[0;34m\u001b[0m\u001b[0m\n",
            "\u001b[0;32m/usr/local/lib/python3.6/dist-packages/pandas/core/series.py\u001b[0m in \u001b[0;36munstack\u001b[0;34m(self, level, fill_value)\u001b[0m\n\u001b[1;32m   3746\u001b[0m         \u001b[0;32mfrom\u001b[0m \u001b[0mpandas\u001b[0m\u001b[0;34m.\u001b[0m\u001b[0mcore\u001b[0m\u001b[0;34m.\u001b[0m\u001b[0mreshape\u001b[0m\u001b[0;34m.\u001b[0m\u001b[0mreshape\u001b[0m \u001b[0;32mimport\u001b[0m \u001b[0munstack\u001b[0m\u001b[0;34m\u001b[0m\u001b[0;34m\u001b[0m\u001b[0m\n\u001b[1;32m   3747\u001b[0m \u001b[0;34m\u001b[0m\u001b[0m\n\u001b[0;32m-> 3748\u001b[0;31m         \u001b[0;32mreturn\u001b[0m \u001b[0munstack\u001b[0m\u001b[0;34m(\u001b[0m\u001b[0mself\u001b[0m\u001b[0;34m,\u001b[0m \u001b[0mlevel\u001b[0m\u001b[0;34m,\u001b[0m \u001b[0mfill_value\u001b[0m\u001b[0;34m)\u001b[0m\u001b[0;34m\u001b[0m\u001b[0;34m\u001b[0m\u001b[0m\n\u001b[0m\u001b[1;32m   3749\u001b[0m \u001b[0;34m\u001b[0m\u001b[0m\n\u001b[1;32m   3750\u001b[0m     \u001b[0;31m# ----------------------------------------------------------------------\u001b[0m\u001b[0;34m\u001b[0m\u001b[0;34m\u001b[0m\u001b[0;34m\u001b[0m\u001b[0m\n",
            "\u001b[0;32m/usr/local/lib/python3.6/dist-packages/pandas/core/reshape/reshape.py\u001b[0m in \u001b[0;36munstack\u001b[0;34m(obj, level, fill_value)\u001b[0m\n\u001b[1;32m    406\u001b[0m     \u001b[0;31m# Prioritize integer interpretation (GH #21677):\u001b[0m\u001b[0;34m\u001b[0m\u001b[0;34m\u001b[0m\u001b[0;34m\u001b[0m\u001b[0m\n\u001b[1;32m    407\u001b[0m     \u001b[0;32mif\u001b[0m \u001b[0;32mnot\u001b[0m \u001b[0mis_integer\u001b[0m\u001b[0;34m(\u001b[0m\u001b[0mlevel\u001b[0m\u001b[0;34m)\u001b[0m \u001b[0;32mand\u001b[0m \u001b[0;32mnot\u001b[0m \u001b[0mlevel\u001b[0m \u001b[0;34m==\u001b[0m \u001b[0;34m\"__placeholder__\"\u001b[0m\u001b[0;34m:\u001b[0m\u001b[0;34m\u001b[0m\u001b[0;34m\u001b[0m\u001b[0m\n\u001b[0;32m--> 408\u001b[0;31m         \u001b[0mlevel\u001b[0m \u001b[0;34m=\u001b[0m \u001b[0mobj\u001b[0m\u001b[0;34m.\u001b[0m\u001b[0mindex\u001b[0m\u001b[0;34m.\u001b[0m\u001b[0m_get_level_number\u001b[0m\u001b[0;34m(\u001b[0m\u001b[0mlevel\u001b[0m\u001b[0;34m)\u001b[0m\u001b[0;34m\u001b[0m\u001b[0;34m\u001b[0m\u001b[0m\n\u001b[0m\u001b[1;32m    409\u001b[0m \u001b[0;34m\u001b[0m\u001b[0m\n\u001b[1;32m    410\u001b[0m     \u001b[0;32mif\u001b[0m \u001b[0misinstance\u001b[0m\u001b[0;34m(\u001b[0m\u001b[0mobj\u001b[0m\u001b[0;34m,\u001b[0m \u001b[0mDataFrame\u001b[0m\u001b[0;34m)\u001b[0m\u001b[0;34m:\u001b[0m\u001b[0;34m\u001b[0m\u001b[0;34m\u001b[0m\u001b[0m\n",
            "\u001b[0;32m/usr/local/lib/python3.6/dist-packages/pandas/core/indexes/multi.py\u001b[0m in \u001b[0;36m_get_level_number\u001b[0;34m(self, level)\u001b[0m\n\u001b[1;32m   1296\u001b[0m         \u001b[0;32mexcept\u001b[0m \u001b[0mValueError\u001b[0m\u001b[0;34m:\u001b[0m\u001b[0;34m\u001b[0m\u001b[0;34m\u001b[0m\u001b[0m\n\u001b[1;32m   1297\u001b[0m             \u001b[0;32mif\u001b[0m \u001b[0;32mnot\u001b[0m \u001b[0mis_integer\u001b[0m\u001b[0;34m(\u001b[0m\u001b[0mlevel\u001b[0m\u001b[0;34m)\u001b[0m\u001b[0;34m:\u001b[0m\u001b[0;34m\u001b[0m\u001b[0;34m\u001b[0m\u001b[0m\n\u001b[0;32m-> 1298\u001b[0;31m                 \u001b[0;32mraise\u001b[0m \u001b[0mKeyError\u001b[0m\u001b[0;34m(\u001b[0m\u001b[0;34m\"Level %s not found\"\u001b[0m \u001b[0;34m%\u001b[0m \u001b[0mstr\u001b[0m\u001b[0;34m(\u001b[0m\u001b[0mlevel\u001b[0m\u001b[0;34m)\u001b[0m\u001b[0;34m)\u001b[0m\u001b[0;34m\u001b[0m\u001b[0;34m\u001b[0m\u001b[0m\n\u001b[0m\u001b[1;32m   1299\u001b[0m             \u001b[0;32melif\u001b[0m \u001b[0mlevel\u001b[0m \u001b[0;34m<\u001b[0m \u001b[0;36m0\u001b[0m\u001b[0;34m:\u001b[0m\u001b[0;34m\u001b[0m\u001b[0;34m\u001b[0m\u001b[0m\n\u001b[1;32m   1300\u001b[0m                 \u001b[0mlevel\u001b[0m \u001b[0;34m+=\u001b[0m \u001b[0mself\u001b[0m\u001b[0;34m.\u001b[0m\u001b[0mnlevels\u001b[0m\u001b[0;34m\u001b[0m\u001b[0;34m\u001b[0m\u001b[0m\n",
            "\u001b[0;31mKeyError\u001b[0m: 'Level False not found'"
          ]
        },
        {
          "output_type": "display_data",
          "data": {
            "image/png": "[encoded data removed]",
            "text/plain": [
              "<Figure size 1080x504 with 1 Axes>"
            ]
          },
          "metadata": {
            "tags": []
          }
        }
      ]
    },
    {
      "cell_type": "code",
      "metadata": {
        "id": "yvlYCRMXKJrU",
        "colab_type": "code",
        "outputId": "b17fa2ea-1aa7-4b83-a731-d509408b95fc",
        "colab": {
          "base_uri": "https://localhost:8080/",
          "height": 34
        }
      },
      "source": [
        "phd.year.values"
      ],
      "execution_count": 0,
      "outputs": [
        {
          "output_type": "execute_result",
          "data": {
            "text/plain": [
              "array([2008, 2008, 2008, ..., 2017, 2017, 2017])"
            ]
          },
          "metadata": {
            "tags": []
          },
          "execution_count": 9
        }
      ]
    },
    {
      "cell_type": "code",
      "metadata": {
        "id": "u-E4YgGqSG8e",
        "colab_type": "code",
        "outputId": "8d92faf7-e9c7-4e27-f6e5-718ed4537558",
        "colab": {
          "base_uri": "https://localhost:8080/",
          "height": 71
        }
      },
      "source": [
        "grouped_phd_count = pd.DataFrame(phd.groupby(['major_field', 'year']).count()['n_phds'])\n",
        "np.unique(grouped_phd_count)"
      ],
      "execution_count": 0,
      "outputs": [
        {
          "output_type": "execute_result",
          "data": {
            "text/plain": [
              "array([ 1,  2,  3,  4,  6,  8,  9, 10, 11, 12, 13, 14, 15, 16, 17, 18, 19,\n",
              "       21, 22, 23, 24, 25, 34, 38, 39, 40])"
            ]
          },
          "metadata": {
            "tags": []
          },
          "execution_count": 6
        }
      ]
    },
    {
      "cell_type": "code",
      "metadata": {
        "id": "ng-DniYLL4nZ",
        "colab_type": "code",
        "outputId": "69de02df-c475-4277-be81-1955da9109c0",
        "colab": {
          "base_uri": "https://localhost:8080/",
          "height": 360
        }
      },
      "source": [
        "phd_grouped = phd.groupby(['major_field', 'year']).to_csv(r'phd_grouped.csv')\n",
        "# phd_grouped.first()\n",
        "phd_grouped.to_csv(r'phd_grouped.csv')"
      ],
      "execution_count": 0,
      "outputs": [
        {
          "output_type": "error",
          "ename": "AttributeError",
          "evalue": "ignored",
          "traceback": [
            "\u001b[0;31m---------------------------------------------------------------------------\u001b[0m",
            "\u001b[0;31mAttributeError\u001b[0m                            Traceback (most recent call last)",
            "\u001b[0;32m<ipython-input-7-8ef73deffe24>\u001b[0m in \u001b[0;36m<module>\u001b[0;34m()\u001b[0m\n\u001b[0;32m----> 1\u001b[0;31m \u001b[0mphd_grouped\u001b[0m \u001b[0;34m=\u001b[0m \u001b[0mphd\u001b[0m\u001b[0;34m.\u001b[0m\u001b[0mgroupby\u001b[0m\u001b[0;34m(\u001b[0m\u001b[0;34m[\u001b[0m\u001b[0;34m'major_field'\u001b[0m\u001b[0;34m,\u001b[0m \u001b[0;34m'year'\u001b[0m\u001b[0;34m]\u001b[0m\u001b[0;34m)\u001b[0m\u001b[0;34m.\u001b[0m\u001b[0mto_csv\u001b[0m\u001b[0;34m(\u001b[0m\u001b[0;34mr'phd_grouped.csv'\u001b[0m\u001b[0;34m)\u001b[0m\u001b[0;34m\u001b[0m\u001b[0;34m\u001b[0m\u001b[0m\n\u001b[0m\u001b[1;32m      2\u001b[0m \u001b[0;31m# phd_grouped.first()\u001b[0m\u001b[0;34m\u001b[0m\u001b[0;34m\u001b[0m\u001b[0;34m\u001b[0m\u001b[0m\n\u001b[1;32m      3\u001b[0m \u001b[0mget_ipython\u001b[0m\u001b[0;34m(\u001b[0m\u001b[0;34m)\u001b[0m\u001b[0;34m.\u001b[0m\u001b[0mmagic\u001b[0m\u001b[0;34m(\u001b[0m\u001b[0;34m'pinfo phd_grouped.to_csv'\u001b[0m\u001b[0;34m)\u001b[0m\u001b[0;34m\u001b[0m\u001b[0;34m\u001b[0m\u001b[0m\n",
            "\u001b[0;32m/usr/local/lib/python3.6/dist-packages/pandas/core/groupby/groupby.py\u001b[0m in \u001b[0;36m__getattr__\u001b[0;34m(self, attr)\u001b[0m\n\u001b[1;32m    561\u001b[0m             \u001b[0;32mreturn\u001b[0m \u001b[0mself\u001b[0m\u001b[0;34m[\u001b[0m\u001b[0mattr\u001b[0m\u001b[0;34m]\u001b[0m\u001b[0;34m\u001b[0m\u001b[0;34m\u001b[0m\u001b[0m\n\u001b[1;32m    562\u001b[0m         \u001b[0;32mif\u001b[0m \u001b[0mhasattr\u001b[0m\u001b[0;34m(\u001b[0m\u001b[0mself\u001b[0m\u001b[0;34m.\u001b[0m\u001b[0mobj\u001b[0m\u001b[0;34m,\u001b[0m \u001b[0mattr\u001b[0m\u001b[0;34m)\u001b[0m\u001b[0;34m:\u001b[0m\u001b[0;34m\u001b[0m\u001b[0;34m\u001b[0m\u001b[0m\n\u001b[0;32m--> 563\u001b[0;31m             \u001b[0;32mreturn\u001b[0m \u001b[0mself\u001b[0m\u001b[0;34m.\u001b[0m\u001b[0m_make_wrapper\u001b[0m\u001b[0;34m(\u001b[0m\u001b[0mattr\u001b[0m\u001b[0;34m)\u001b[0m\u001b[0;34m\u001b[0m\u001b[0;34m\u001b[0m\u001b[0m\n\u001b[0m\u001b[1;32m    564\u001b[0m \u001b[0;34m\u001b[0m\u001b[0m\n\u001b[1;32m    565\u001b[0m         raise AttributeError(\n",
            "\u001b[0;32m/usr/local/lib/python3.6/dist-packages/pandas/core/groupby/groupby.py\u001b[0m in \u001b[0;36m_make_wrapper\u001b[0;34m(self, name)\u001b[0m\n\u001b[1;32m    602\u001b[0m                 \u001b[0;34m\"using the 'apply' method\"\u001b[0m\u001b[0;34m.\u001b[0m\u001b[0mformat\u001b[0m\u001b[0;34m(\u001b[0m\u001b[0mkind\u001b[0m\u001b[0;34m,\u001b[0m \u001b[0mname\u001b[0m\u001b[0;34m,\u001b[0m \u001b[0mtype\u001b[0m\u001b[0;34m(\u001b[0m\u001b[0mself\u001b[0m\u001b[0;34m)\u001b[0m\u001b[0;34m.\u001b[0m\u001b[0m__name__\u001b[0m\u001b[0;34m)\u001b[0m\u001b[0;34m\u001b[0m\u001b[0;34m\u001b[0m\u001b[0m\n\u001b[1;32m    603\u001b[0m             )\n\u001b[0;32m--> 604\u001b[0;31m             \u001b[0;32mraise\u001b[0m \u001b[0mAttributeError\u001b[0m\u001b[0;34m(\u001b[0m\u001b[0mmsg\u001b[0m\u001b[0;34m)\u001b[0m\u001b[0;34m\u001b[0m\u001b[0;34m\u001b[0m\u001b[0m\n\u001b[0m\u001b[1;32m    605\u001b[0m \u001b[0;34m\u001b[0m\u001b[0m\n\u001b[1;32m    606\u001b[0m         \u001b[0mself\u001b[0m\u001b[0;34m.\u001b[0m\u001b[0m_set_group_selection\u001b[0m\u001b[0;34m(\u001b[0m\u001b[0;34m)\u001b[0m\u001b[0;34m\u001b[0m\u001b[0;34m\u001b[0m\u001b[0m\n",
            "\u001b[0;31mAttributeError\u001b[0m: Cannot access callable attribute 'to_csv' of 'DataFrameGroupBy' objects, try using the 'apply' method"
          ]
        }
      ]
    },
    {
      "cell_type": "code",
      "metadata": {
        "id": "usZvRMCaN5cW",
        "colab_type": "code",
        "outputId": "c51fd57c-45b1-4d56-a0dc-bbcf5b03eec8",
        "colab": {
          "base_uri": "https://localhost:8080/",
          "height": 1000
        }
      },
      "source": [
        "group_list = [g[1] for g in list(phd_grouped)[:3]]\n",
        "group_list[1]"
      ],
      "execution_count": 0,
      "outputs": [
        {
          "output_type": "execute_result",
          "data": {
            "text/html": [
              "<div>\n",
              "<style scoped>\n",
              "    .dataframe tbody tr th:only-of-type {\n",
              "        vertical-align: middle;\n",
              "    }\n",
              "\n",
              "    .dataframe tbody tr th {\n",
              "        vertical-align: top;\n",
              "    }\n",
              "\n",
              "    .dataframe thead th {\n",
              "        text-align: right;\n",
              "    }\n",
              "</style>\n",
              "<table border=\"1\" class=\"dataframe\">\n",
              "  <thead>\n",
              "    <tr style=\"text-align: right;\">\n",
              "      <th></th>\n",
              "      <th>broad_field</th>\n",
              "      <th>major_field</th>\n",
              "      <th>field</th>\n",
              "      <th>year</th>\n",
              "      <th>n_phds</th>\n",
              "    </tr>\n",
              "  </thead>\n",
              "  <tbody>\n",
              "    <tr>\n",
              "      <th>337</th>\n",
              "      <td>Life sciences</td>\n",
              "      <td>Agricultural sciences and natural resources</td>\n",
              "      <td>Agricultural economics</td>\n",
              "      <td>2009</td>\n",
              "      <td>116.0</td>\n",
              "    </tr>\n",
              "    <tr>\n",
              "      <th>338</th>\n",
              "      <td>Life sciences</td>\n",
              "      <td>Agricultural sciences and natural resources</td>\n",
              "      <td>Agricultural and horticultural plant breeding</td>\n",
              "      <td>2009</td>\n",
              "      <td>24.0</td>\n",
              "    </tr>\n",
              "    <tr>\n",
              "      <th>339</th>\n",
              "      <td>Life sciences</td>\n",
              "      <td>Agricultural sciences and natural resources</td>\n",
              "      <td>Agricultural animal breeding</td>\n",
              "      <td>2009</td>\n",
              "      <td>12.0</td>\n",
              "    </tr>\n",
              "    <tr>\n",
              "      <th>340</th>\n",
              "      <td>Life sciences</td>\n",
              "      <td>Agricultural sciences and natural resources</td>\n",
              "      <td>Agronomy and crop science</td>\n",
              "      <td>2009</td>\n",
              "      <td>77.0</td>\n",
              "    </tr>\n",
              "    <tr>\n",
              "      <th>341</th>\n",
              "      <td>Life sciences</td>\n",
              "      <td>Agricultural sciences and natural resources</td>\n",
              "      <td>Animal nutrition</td>\n",
              "      <td>2009</td>\n",
              "      <td>34.0</td>\n",
              "    </tr>\n",
              "    <tr>\n",
              "      <th>342</th>\n",
              "      <td>Life sciences</td>\n",
              "      <td>Agricultural sciences and natural resources</td>\n",
              "      <td>Animal science, poultry or avian</td>\n",
              "      <td>2009</td>\n",
              "      <td>17.0</td>\n",
              "    </tr>\n",
              "    <tr>\n",
              "      <th>343</th>\n",
              "      <td>Life sciences</td>\n",
              "      <td>Agricultural sciences and natural resources</td>\n",
              "      <td>Animal sciences, other</td>\n",
              "      <td>2009</td>\n",
              "      <td>74.0</td>\n",
              "    </tr>\n",
              "    <tr>\n",
              "      <th>344</th>\n",
              "      <td>Life sciences</td>\n",
              "      <td>Agricultural sciences and natural resources</td>\n",
              "      <td>Environmental science</td>\n",
              "      <td>2009</td>\n",
              "      <td>201.0</td>\n",
              "    </tr>\n",
              "    <tr>\n",
              "      <th>345</th>\n",
              "      <td>Life sciences</td>\n",
              "      <td>Agricultural sciences and natural resources</td>\n",
              "      <td>Fishing and fisheries sciences and management</td>\n",
              "      <td>2009</td>\n",
              "      <td>67.0</td>\n",
              "    </tr>\n",
              "    <tr>\n",
              "      <th>346</th>\n",
              "      <td>Life sciences</td>\n",
              "      <td>Agricultural sciences and natural resources</td>\n",
              "      <td>Food science</td>\n",
              "      <td>2009</td>\n",
              "      <td>110.0</td>\n",
              "    </tr>\n",
              "    <tr>\n",
              "      <th>347</th>\n",
              "      <td>Life sciences</td>\n",
              "      <td>Agricultural sciences and natural resources</td>\n",
              "      <td>Food science and technology, other</td>\n",
              "      <td>2009</td>\n",
              "      <td>30.0</td>\n",
              "    </tr>\n",
              "    <tr>\n",
              "      <th>348</th>\n",
              "      <td>Life sciences</td>\n",
              "      <td>Agricultural sciences and natural resources</td>\n",
              "      <td>Forest sciences and biology</td>\n",
              "      <td>2009</td>\n",
              "      <td>43.0</td>\n",
              "    </tr>\n",
              "    <tr>\n",
              "      <th>349</th>\n",
              "      <td>Life sciences</td>\n",
              "      <td>Agricultural sciences and natural resources</td>\n",
              "      <td>Forest management, forest resources management</td>\n",
              "      <td>2009</td>\n",
              "      <td>52.0</td>\n",
              "    </tr>\n",
              "    <tr>\n",
              "      <th>350</th>\n",
              "      <td>Life sciences</td>\n",
              "      <td>Agricultural sciences and natural resources</td>\n",
              "      <td>Forestry, other</td>\n",
              "      <td>2009</td>\n",
              "      <td>26.0</td>\n",
              "    </tr>\n",
              "    <tr>\n",
              "      <th>351</th>\n",
              "      <td>Life sciences</td>\n",
              "      <td>Agricultural sciences and natural resources</td>\n",
              "      <td>Horticulture science</td>\n",
              "      <td>2009</td>\n",
              "      <td>55.0</td>\n",
              "    </tr>\n",
              "    <tr>\n",
              "      <th>352</th>\n",
              "      <td>Life sciences</td>\n",
              "      <td>Agricultural sciences and natural resources</td>\n",
              "      <td>Natural resource and environmental policy</td>\n",
              "      <td>2009</td>\n",
              "      <td>NaN</td>\n",
              "    </tr>\n",
              "    <tr>\n",
              "      <th>353</th>\n",
              "      <td>Life sciences</td>\n",
              "      <td>Agricultural sciences and natural resources</td>\n",
              "      <td>Natural resources and conservation</td>\n",
              "      <td>2009</td>\n",
              "      <td>84.0</td>\n",
              "    </tr>\n",
              "    <tr>\n",
              "      <th>354</th>\n",
              "      <td>Life sciences</td>\n",
              "      <td>Agricultural sciences and natural resources</td>\n",
              "      <td>Natural resources and environmental economics ...</td>\n",
              "      <td>2009</td>\n",
              "      <td>NaN</td>\n",
              "    </tr>\n",
              "    <tr>\n",
              "      <th>355</th>\n",
              "      <td>Life sciences</td>\n",
              "      <td>Agricultural sciences and natural resources</td>\n",
              "      <td>Plant pathology and phytopathology, agricultural</td>\n",
              "      <td>2009</td>\n",
              "      <td>61.0</td>\n",
              "    </tr>\n",
              "    <tr>\n",
              "      <th>356</th>\n",
              "      <td>Life sciences</td>\n",
              "      <td>Agricultural sciences and natural resources</td>\n",
              "      <td>Plant sciences, other</td>\n",
              "      <td>2009</td>\n",
              "      <td>60.0</td>\n",
              "    </tr>\n",
              "    <tr>\n",
              "      <th>357</th>\n",
              "      <td>Life sciences</td>\n",
              "      <td>Agricultural sciences and natural resources</td>\n",
              "      <td>Soil chemistry, microbiology</td>\n",
              "      <td>2009</td>\n",
              "      <td>18.0</td>\n",
              "    </tr>\n",
              "    <tr>\n",
              "      <th>358</th>\n",
              "      <td>Life sciences</td>\n",
              "      <td>Agricultural sciences and natural resources</td>\n",
              "      <td>Soil sciences, other</td>\n",
              "      <td>2009</td>\n",
              "      <td>49.0</td>\n",
              "    </tr>\n",
              "    <tr>\n",
              "      <th>359</th>\n",
              "      <td>Life sciences</td>\n",
              "      <td>Agricultural sciences and natural resources</td>\n",
              "      <td>Wildlife, range management</td>\n",
              "      <td>2009</td>\n",
              "      <td>34.0</td>\n",
              "    </tr>\n",
              "    <tr>\n",
              "      <th>360</th>\n",
              "      <td>Life sciences</td>\n",
              "      <td>Agricultural sciences and natural resources</td>\n",
              "      <td>Wood science, pulp and paper technology</td>\n",
              "      <td>2009</td>\n",
              "      <td>17.0</td>\n",
              "    </tr>\n",
              "    <tr>\n",
              "      <th>361</th>\n",
              "      <td>Life sciences</td>\n",
              "      <td>Agricultural sciences and natural resources</td>\n",
              "      <td>Agricultural sciences and natural resources, g...</td>\n",
              "      <td>2009</td>\n",
              "      <td>8.0</td>\n",
              "    </tr>\n",
              "    <tr>\n",
              "      <th>362</th>\n",
              "      <td>Life sciences</td>\n",
              "      <td>Agricultural sciences and natural resources</td>\n",
              "      <td>Agricultural sciences and natural resources, o...</td>\n",
              "      <td>2009</td>\n",
              "      <td>14.0</td>\n",
              "    </tr>\n",
              "  </tbody>\n",
              "</table>\n",
              "</div>"
            ],
            "text/plain": [
              "       broad_field                                  major_field  ...  year  n_phds\n",
              "337  Life sciences  Agricultural sciences and natural resources  ...  2009   116.0\n",
              "338  Life sciences  Agricultural sciences and natural resources  ...  2009    24.0\n",
              "339  Life sciences  Agricultural sciences and natural resources  ...  2009    12.0\n",
              "340  Life sciences  Agricultural sciences and natural resources  ...  2009    77.0\n",
              "341  Life sciences  Agricultural sciences and natural resources  ...  2009    34.0\n",
              "342  Life sciences  Agricultural sciences and natural resources  ...  2009    17.0\n",
              "343  Life sciences  Agricultural sciences and natural resources  ...  2009    74.0\n",
              "344  Life sciences  Agricultural sciences and natural resources  ...  2009   201.0\n",
              "345  Life sciences  Agricultural sciences and natural resources  ...  2009    67.0\n",
              "346  Life sciences  Agricultural sciences and natural resources  ...  2009   110.0\n",
              "347  Life sciences  Agricultural sciences and natural resources  ...  2009    30.0\n",
              "348  Life sciences  Agricultural sciences and natural resources  ...  2009    43.0\n",
              "349  Life sciences  Agricultural sciences and natural resources  ...  2009    52.0\n",
              "350  Life sciences  Agricultural sciences and natural resources  ...  2009    26.0\n",
              "351  Life sciences  Agricultural sciences and natural resources  ...  2009    55.0\n",
              "352  Life sciences  Agricultural sciences and natural resources  ...  2009     NaN\n",
              "353  Life sciences  Agricultural sciences and natural resources  ...  2009    84.0\n",
              "354  Life sciences  Agricultural sciences and natural resources  ...  2009     NaN\n",
              "355  Life sciences  Agricultural sciences and natural resources  ...  2009    61.0\n",
              "356  Life sciences  Agricultural sciences and natural resources  ...  2009    60.0\n",
              "357  Life sciences  Agricultural sciences and natural resources  ...  2009    18.0\n",
              "358  Life sciences  Agricultural sciences and natural resources  ...  2009    49.0\n",
              "359  Life sciences  Agricultural sciences and natural resources  ...  2009    34.0\n",
              "360  Life sciences  Agricultural sciences and natural resources  ...  2009    17.0\n",
              "361  Life sciences  Agricultural sciences and natural resources  ...  2009     8.0\n",
              "362  Life sciences  Agricultural sciences and natural resources  ...  2009    14.0\n",
              "\n",
              "[26 rows x 5 columns]"
            ]
          },
          "metadata": {
            "tags": []
          },
          "execution_count": 26
        }
      ]
    },
    {
      "cell_type": "code",
      "metadata": {
        "id": "VD2nIdfNOPCQ",
        "colab_type": "code",
        "outputId": "7e64b3b3-36f7-449a-a2b7-a639bda38f93",
        "colab": {
          "base_uri": "https://localhost:8080/",
          "height": 1000
        }
      },
      "source": [
        "group_list[2]"
      ],
      "execution_count": 0,
      "outputs": [
        {
          "output_type": "execute_result",
          "data": {
            "text/html": [
              "<div>\n",
              "<style scoped>\n",
              "    .dataframe tbody tr th:only-of-type {\n",
              "        vertical-align: middle;\n",
              "    }\n",
              "\n",
              "    .dataframe tbody tr th {\n",
              "        vertical-align: top;\n",
              "    }\n",
              "\n",
              "    .dataframe thead th {\n",
              "        text-align: right;\n",
              "    }\n",
              "</style>\n",
              "<table border=\"1\" class=\"dataframe\">\n",
              "  <thead>\n",
              "    <tr style=\"text-align: right;\">\n",
              "      <th></th>\n",
              "      <th>broad_field</th>\n",
              "      <th>major_field</th>\n",
              "      <th>field</th>\n",
              "      <th>year</th>\n",
              "      <th>n_phds</th>\n",
              "    </tr>\n",
              "  </thead>\n",
              "  <tbody>\n",
              "    <tr>\n",
              "      <th>674</th>\n",
              "      <td>Life sciences</td>\n",
              "      <td>Agricultural sciences and natural resources</td>\n",
              "      <td>Agricultural economics</td>\n",
              "      <td>2010</td>\n",
              "      <td>118.0</td>\n",
              "    </tr>\n",
              "    <tr>\n",
              "      <th>675</th>\n",
              "      <td>Life sciences</td>\n",
              "      <td>Agricultural sciences and natural resources</td>\n",
              "      <td>Agricultural and horticultural plant breeding</td>\n",
              "      <td>2010</td>\n",
              "      <td>31.0</td>\n",
              "    </tr>\n",
              "    <tr>\n",
              "      <th>676</th>\n",
              "      <td>Life sciences</td>\n",
              "      <td>Agricultural sciences and natural resources</td>\n",
              "      <td>Agricultural animal breeding</td>\n",
              "      <td>2010</td>\n",
              "      <td>7.0</td>\n",
              "    </tr>\n",
              "    <tr>\n",
              "      <th>677</th>\n",
              "      <td>Life sciences</td>\n",
              "      <td>Agricultural sciences and natural resources</td>\n",
              "      <td>Agronomy and crop science</td>\n",
              "      <td>2010</td>\n",
              "      <td>69.0</td>\n",
              "    </tr>\n",
              "    <tr>\n",
              "      <th>678</th>\n",
              "      <td>Life sciences</td>\n",
              "      <td>Agricultural sciences and natural resources</td>\n",
              "      <td>Animal nutrition</td>\n",
              "      <td>2010</td>\n",
              "      <td>34.0</td>\n",
              "    </tr>\n",
              "    <tr>\n",
              "      <th>679</th>\n",
              "      <td>Life sciences</td>\n",
              "      <td>Agricultural sciences and natural resources</td>\n",
              "      <td>Animal science, poultry or avian</td>\n",
              "      <td>2010</td>\n",
              "      <td>12.0</td>\n",
              "    </tr>\n",
              "    <tr>\n",
              "      <th>680</th>\n",
              "      <td>Life sciences</td>\n",
              "      <td>Agricultural sciences and natural resources</td>\n",
              "      <td>Animal sciences, other</td>\n",
              "      <td>2010</td>\n",
              "      <td>54.0</td>\n",
              "    </tr>\n",
              "    <tr>\n",
              "      <th>681</th>\n",
              "      <td>Life sciences</td>\n",
              "      <td>Agricultural sciences and natural resources</td>\n",
              "      <td>Environmental science</td>\n",
              "      <td>2010</td>\n",
              "      <td>155.0</td>\n",
              "    </tr>\n",
              "    <tr>\n",
              "      <th>682</th>\n",
              "      <td>Life sciences</td>\n",
              "      <td>Agricultural sciences and natural resources</td>\n",
              "      <td>Fishing and fisheries sciences and management</td>\n",
              "      <td>2010</td>\n",
              "      <td>34.0</td>\n",
              "    </tr>\n",
              "    <tr>\n",
              "      <th>683</th>\n",
              "      <td>Life sciences</td>\n",
              "      <td>Agricultural sciences and natural resources</td>\n",
              "      <td>Food science</td>\n",
              "      <td>2010</td>\n",
              "      <td>100.0</td>\n",
              "    </tr>\n",
              "    <tr>\n",
              "      <th>684</th>\n",
              "      <td>Life sciences</td>\n",
              "      <td>Agricultural sciences and natural resources</td>\n",
              "      <td>Food science and technology, other</td>\n",
              "      <td>2010</td>\n",
              "      <td>37.0</td>\n",
              "    </tr>\n",
              "    <tr>\n",
              "      <th>685</th>\n",
              "      <td>Life sciences</td>\n",
              "      <td>Agricultural sciences and natural resources</td>\n",
              "      <td>Forest sciences and biology</td>\n",
              "      <td>2010</td>\n",
              "      <td>23.0</td>\n",
              "    </tr>\n",
              "    <tr>\n",
              "      <th>686</th>\n",
              "      <td>Life sciences</td>\n",
              "      <td>Agricultural sciences and natural resources</td>\n",
              "      <td>Forest management, forest resources management</td>\n",
              "      <td>2010</td>\n",
              "      <td>41.0</td>\n",
              "    </tr>\n",
              "    <tr>\n",
              "      <th>687</th>\n",
              "      <td>Life sciences</td>\n",
              "      <td>Agricultural sciences and natural resources</td>\n",
              "      <td>Forestry, other</td>\n",
              "      <td>2010</td>\n",
              "      <td>17.0</td>\n",
              "    </tr>\n",
              "    <tr>\n",
              "      <th>688</th>\n",
              "      <td>Life sciences</td>\n",
              "      <td>Agricultural sciences and natural resources</td>\n",
              "      <td>Horticulture science</td>\n",
              "      <td>2010</td>\n",
              "      <td>42.0</td>\n",
              "    </tr>\n",
              "    <tr>\n",
              "      <th>689</th>\n",
              "      <td>Life sciences</td>\n",
              "      <td>Agricultural sciences and natural resources</td>\n",
              "      <td>Natural resource and environmental policy</td>\n",
              "      <td>2010</td>\n",
              "      <td>NaN</td>\n",
              "    </tr>\n",
              "    <tr>\n",
              "      <th>690</th>\n",
              "      <td>Life sciences</td>\n",
              "      <td>Agricultural sciences and natural resources</td>\n",
              "      <td>Natural resources and conservation</td>\n",
              "      <td>2010</td>\n",
              "      <td>88.0</td>\n",
              "    </tr>\n",
              "    <tr>\n",
              "      <th>691</th>\n",
              "      <td>Life sciences</td>\n",
              "      <td>Agricultural sciences and natural resources</td>\n",
              "      <td>Natural resources and environmental economics ...</td>\n",
              "      <td>2010</td>\n",
              "      <td>NaN</td>\n",
              "    </tr>\n",
              "    <tr>\n",
              "      <th>692</th>\n",
              "      <td>Life sciences</td>\n",
              "      <td>Agricultural sciences and natural resources</td>\n",
              "      <td>Plant pathology and phytopathology, agricultural</td>\n",
              "      <td>2010</td>\n",
              "      <td>56.0</td>\n",
              "    </tr>\n",
              "    <tr>\n",
              "      <th>693</th>\n",
              "      <td>Life sciences</td>\n",
              "      <td>Agricultural sciences and natural resources</td>\n",
              "      <td>Plant sciences, other</td>\n",
              "      <td>2010</td>\n",
              "      <td>49.0</td>\n",
              "    </tr>\n",
              "    <tr>\n",
              "      <th>694</th>\n",
              "      <td>Life sciences</td>\n",
              "      <td>Agricultural sciences and natural resources</td>\n",
              "      <td>Soil chemistry, microbiology</td>\n",
              "      <td>2010</td>\n",
              "      <td>20.0</td>\n",
              "    </tr>\n",
              "    <tr>\n",
              "      <th>695</th>\n",
              "      <td>Life sciences</td>\n",
              "      <td>Agricultural sciences and natural resources</td>\n",
              "      <td>Soil sciences, other</td>\n",
              "      <td>2010</td>\n",
              "      <td>39.0</td>\n",
              "    </tr>\n",
              "    <tr>\n",
              "      <th>696</th>\n",
              "      <td>Life sciences</td>\n",
              "      <td>Agricultural sciences and natural resources</td>\n",
              "      <td>Wildlife, range management</td>\n",
              "      <td>2010</td>\n",
              "      <td>48.0</td>\n",
              "    </tr>\n",
              "    <tr>\n",
              "      <th>697</th>\n",
              "      <td>Life sciences</td>\n",
              "      <td>Agricultural sciences and natural resources</td>\n",
              "      <td>Wood science, pulp and paper technology</td>\n",
              "      <td>2010</td>\n",
              "      <td>8.0</td>\n",
              "    </tr>\n",
              "    <tr>\n",
              "      <th>698</th>\n",
              "      <td>Life sciences</td>\n",
              "      <td>Agricultural sciences and natural resources</td>\n",
              "      <td>Agricultural sciences and natural resources, g...</td>\n",
              "      <td>2010</td>\n",
              "      <td>2.0</td>\n",
              "    </tr>\n",
              "    <tr>\n",
              "      <th>699</th>\n",
              "      <td>Life sciences</td>\n",
              "      <td>Agricultural sciences and natural resources</td>\n",
              "      <td>Agricultural sciences and natural resources, o...</td>\n",
              "      <td>2010</td>\n",
              "      <td>16.0</td>\n",
              "    </tr>\n",
              "  </tbody>\n",
              "</table>\n",
              "</div>"
            ],
            "text/plain": [
              "       broad_field                                  major_field  ...  year  n_phds\n",
              "674  Life sciences  Agricultural sciences and natural resources  ...  2010   118.0\n",
              "675  Life sciences  Agricultural sciences and natural resources  ...  2010    31.0\n",
              "676  Life sciences  Agricultural sciences and natural resources  ...  2010     7.0\n",
              "677  Life sciences  Agricultural sciences and natural resources  ...  2010    69.0\n",
              "678  Life sciences  Agricultural sciences and natural resources  ...  2010    34.0\n",
              "679  Life sciences  Agricultural sciences and natural resources  ...  2010    12.0\n",
              "680  Life sciences  Agricultural sciences and natural resources  ...  2010    54.0\n",
              "681  Life sciences  Agricultural sciences and natural resources  ...  2010   155.0\n",
              "682  Life sciences  Agricultural sciences and natural resources  ...  2010    34.0\n",
              "683  Life sciences  Agricultural sciences and natural resources  ...  2010   100.0\n",
              "684  Life sciences  Agricultural sciences and natural resources  ...  2010    37.0\n",
              "685  Life sciences  Agricultural sciences and natural resources  ...  2010    23.0\n",
              "686  Life sciences  Agricultural sciences and natural resources  ...  2010    41.0\n",
              "687  Life sciences  Agricultural sciences and natural resources  ...  2010    17.0\n",
              "688  Life sciences  Agricultural sciences and natural resources  ...  2010    42.0\n",
              "689  Life sciences  Agricultural sciences and natural resources  ...  2010     NaN\n",
              "690  Life sciences  Agricultural sciences and natural resources  ...  2010    88.0\n",
              "691  Life sciences  Agricultural sciences and natural resources  ...  2010     NaN\n",
              "692  Life sciences  Agricultural sciences and natural resources  ...  2010    56.0\n",
              "693  Life sciences  Agricultural sciences and natural resources  ...  2010    49.0\n",
              "694  Life sciences  Agricultural sciences and natural resources  ...  2010    20.0\n",
              "695  Life sciences  Agricultural sciences and natural resources  ...  2010    39.0\n",
              "696  Life sciences  Agricultural sciences and natural resources  ...  2010    48.0\n",
              "697  Life sciences  Agricultural sciences and natural resources  ...  2010     8.0\n",
              "698  Life sciences  Agricultural sciences and natural resources  ...  2010     2.0\n",
              "699  Life sciences  Agricultural sciences and natural resources  ...  2010    16.0\n",
              "\n",
              "[26 rows x 5 columns]"
            ]
          },
          "metadata": {
            "tags": []
          },
          "execution_count": 32
        }
      ]
    },
    {
      "cell_type": "code",
      "metadata": {
        "id": "gx1NAlveQ6fz",
        "colab_type": "code",
        "outputId": "21ea8ce5-33f6-4340-824a-420969bc3ed4",
        "colab": {
          "base_uri": "https://localhost:8080/",
          "height": 301
        }
      },
      "source": [
        "plt.plot(phd[phd['broad_field']=='Life sciences'].groupby('year')['n_phds'].nunique(), 'ro-');\n",
        "plt.xlabel('Years', fontsize=14);\n",
        "plt.ylabel('Life Sciences', fontsize=14);\n",
        "plt.title('Number of phd in Life Science broad major', fontsize=16);"
      ],
      "execution_count": 0,
      "outputs": [
        {
          "output_type": "display_data",
          "data": {
            "image/png": "[encoded data removed]",
            "text/plain": [
              "<Figure size 432x288 with 1 Axes>"
            ]
          },
          "metadata": {
            "tags": []
          }
        }
      ]
    },
    {
      "cell_type": "code",
      "metadata": {
        "id": "_wiCsjfdaW9r",
        "colab_type": "code",
        "outputId": "481dfc38-9179-4b30-927b-444dd0f3bec8",
        "colab": {
          "base_uri": "https://localhost:8080/",
          "height": 625
        }
      },
      "source": [
        "plt.hist(phd[phd['broad_field']=='Life sciences'].groupby('major_field')['n_phds'].nunique(), aplha=0.5);\n",
        "plt.xlabel('Years', fontsize=14);\n",
        "plt.ylabel('Life Sciences', fontsize=14);\n",
        "plt.title('Number of phd in Life Science broad major', fontsize=16);"
      ],
      "execution_count": 0,
      "outputs": [
        {
          "output_type": "error",
          "ename": "AttributeError",
          "evalue": "ignored",
          "traceback": [
            "\u001b[0;31m---------------------------------------------------------------------------\u001b[0m",
            "\u001b[0;31mAttributeError\u001b[0m                            Traceback (most recent call last)",
            "\u001b[0;32m<ipython-input-42-2ef3fc7c94e7>\u001b[0m in \u001b[0;36m<module>\u001b[0;34m()\u001b[0m\n\u001b[0;32m----> 1\u001b[0;31m \u001b[0mplt\u001b[0m\u001b[0;34m.\u001b[0m\u001b[0mhist\u001b[0m\u001b[0;34m(\u001b[0m\u001b[0mphd\u001b[0m\u001b[0;34m[\u001b[0m\u001b[0mphd\u001b[0m\u001b[0;34m[\u001b[0m\u001b[0;34m'broad_field'\u001b[0m\u001b[0;34m]\u001b[0m\u001b[0;34m==\u001b[0m\u001b[0;34m'Life sciences'\u001b[0m\u001b[0;34m]\u001b[0m\u001b[0;34m.\u001b[0m\u001b[0mgroupby\u001b[0m\u001b[0;34m(\u001b[0m\u001b[0;34m'major_field'\u001b[0m\u001b[0;34m)\u001b[0m\u001b[0;34m[\u001b[0m\u001b[0;34m'n_phds'\u001b[0m\u001b[0;34m]\u001b[0m\u001b[0;34m.\u001b[0m\u001b[0mnunique\u001b[0m\u001b[0;34m(\u001b[0m\u001b[0;34m)\u001b[0m\u001b[0;34m,\u001b[0m \u001b[0maplha\u001b[0m\u001b[0;34m=\u001b[0m\u001b[0;36m0.5\u001b[0m\u001b[0;34m)\u001b[0m\u001b[0;34m;\u001b[0m\u001b[0;34m\u001b[0m\u001b[0;34m\u001b[0m\u001b[0m\n\u001b[0m\u001b[1;32m      2\u001b[0m \u001b[0mplt\u001b[0m\u001b[0;34m.\u001b[0m\u001b[0mxlabel\u001b[0m\u001b[0;34m(\u001b[0m\u001b[0;34m'Years'\u001b[0m\u001b[0;34m,\u001b[0m \u001b[0mfontsize\u001b[0m\u001b[0;34m=\u001b[0m\u001b[0;36m14\u001b[0m\u001b[0;34m)\u001b[0m\u001b[0;34m;\u001b[0m\u001b[0;34m\u001b[0m\u001b[0;34m\u001b[0m\u001b[0m\n\u001b[1;32m      3\u001b[0m \u001b[0mplt\u001b[0m\u001b[0;34m.\u001b[0m\u001b[0mylabel\u001b[0m\u001b[0;34m(\u001b[0m\u001b[0;34m'Life Sciences'\u001b[0m\u001b[0;34m,\u001b[0m \u001b[0mfontsize\u001b[0m\u001b[0;34m=\u001b[0m\u001b[0;36m14\u001b[0m\u001b[0;34m)\u001b[0m\u001b[0;34m;\u001b[0m\u001b[0;34m\u001b[0m\u001b[0;34m\u001b[0m\u001b[0m\n\u001b[1;32m      4\u001b[0m \u001b[0mplt\u001b[0m\u001b[0;34m.\u001b[0m\u001b[0mtitle\u001b[0m\u001b[0;34m(\u001b[0m\u001b[0;34m'Number of phd in Life Science broad major'\u001b[0m\u001b[0;34m,\u001b[0m \u001b[0mfontsize\u001b[0m\u001b[0;34m=\u001b[0m\u001b[0;36m16\u001b[0m\u001b[0;34m)\u001b[0m\u001b[0;34m;\u001b[0m\u001b[0;34m\u001b[0m\u001b[0;34m\u001b[0m\u001b[0m\n",
            "\u001b[0;32m/usr/local/lib/python3.6/dist-packages/matplotlib/pyplot.py\u001b[0m in \u001b[0;36mhist\u001b[0;34m(x, bins, range, density, weights, cumulative, bottom, histtype, align, orientation, rwidth, log, color, label, stacked, normed, data, **kwargs)\u001b[0m\n\u001b[1;32m   2640\u001b[0m         \u001b[0malign\u001b[0m\u001b[0;34m=\u001b[0m\u001b[0malign\u001b[0m\u001b[0;34m,\u001b[0m \u001b[0morientation\u001b[0m\u001b[0;34m=\u001b[0m\u001b[0morientation\u001b[0m\u001b[0;34m,\u001b[0m \u001b[0mrwidth\u001b[0m\u001b[0;34m=\u001b[0m\u001b[0mrwidth\u001b[0m\u001b[0;34m,\u001b[0m \u001b[0mlog\u001b[0m\u001b[0;34m=\u001b[0m\u001b[0mlog\u001b[0m\u001b[0;34m,\u001b[0m\u001b[0;34m\u001b[0m\u001b[0;34m\u001b[0m\u001b[0m\n\u001b[1;32m   2641\u001b[0m         \u001b[0mcolor\u001b[0m\u001b[0;34m=\u001b[0m\u001b[0mcolor\u001b[0m\u001b[0;34m,\u001b[0m \u001b[0mlabel\u001b[0m\u001b[0;34m=\u001b[0m\u001b[0mlabel\u001b[0m\u001b[0;34m,\u001b[0m \u001b[0mstacked\u001b[0m\u001b[0;34m=\u001b[0m\u001b[0mstacked\u001b[0m\u001b[0;34m,\u001b[0m \u001b[0mnormed\u001b[0m\u001b[0;34m=\u001b[0m\u001b[0mnormed\u001b[0m\u001b[0;34m,\u001b[0m\u001b[0;34m\u001b[0m\u001b[0;34m\u001b[0m\u001b[0m\n\u001b[0;32m-> 2642\u001b[0;31m         **({\"data\": data} if data is not None else {}), **kwargs)\n\u001b[0m\u001b[1;32m   2643\u001b[0m \u001b[0;34m\u001b[0m\u001b[0m\n\u001b[1;32m   2644\u001b[0m \u001b[0;34m\u001b[0m\u001b[0m\n",
            "\u001b[0;32m/usr/local/lib/python3.6/dist-packages/matplotlib/__init__.py\u001b[0m in \u001b[0;36minner\u001b[0;34m(ax, data, *args, **kwargs)\u001b[0m\n\u001b[1;32m   1599\u001b[0m     \u001b[0;32mdef\u001b[0m \u001b[0minner\u001b[0m\u001b[0;34m(\u001b[0m\u001b[0max\u001b[0m\u001b[0;34m,\u001b[0m \u001b[0;34m*\u001b[0m\u001b[0margs\u001b[0m\u001b[0;34m,\u001b[0m \u001b[0mdata\u001b[0m\u001b[0;34m=\u001b[0m\u001b[0;32mNone\u001b[0m\u001b[0;34m,\u001b[0m \u001b[0;34m**\u001b[0m\u001b[0mkwargs\u001b[0m\u001b[0;34m)\u001b[0m\u001b[0;34m:\u001b[0m\u001b[0;34m\u001b[0m\u001b[0;34m\u001b[0m\u001b[0m\n\u001b[1;32m   1600\u001b[0m         \u001b[0;32mif\u001b[0m \u001b[0mdata\u001b[0m \u001b[0;32mis\u001b[0m \u001b[0;32mNone\u001b[0m\u001b[0;34m:\u001b[0m\u001b[0;34m\u001b[0m\u001b[0;34m\u001b[0m\u001b[0m\n\u001b[0;32m-> 1601\u001b[0;31m             \u001b[0;32mreturn\u001b[0m \u001b[0mfunc\u001b[0m\u001b[0;34m(\u001b[0m\u001b[0max\u001b[0m\u001b[0;34m,\u001b[0m \u001b[0;34m*\u001b[0m\u001b[0mmap\u001b[0m\u001b[0;34m(\u001b[0m\u001b[0msanitize_sequence\u001b[0m\u001b[0;34m,\u001b[0m \u001b[0margs\u001b[0m\u001b[0;34m)\u001b[0m\u001b[0;34m,\u001b[0m \u001b[0;34m**\u001b[0m\u001b[0mkwargs\u001b[0m\u001b[0;34m)\u001b[0m\u001b[0;34m\u001b[0m\u001b[0;34m\u001b[0m\u001b[0m\n\u001b[0m\u001b[1;32m   1602\u001b[0m \u001b[0;34m\u001b[0m\u001b[0m\n\u001b[1;32m   1603\u001b[0m         \u001b[0mbound\u001b[0m \u001b[0;34m=\u001b[0m \u001b[0mnew_sig\u001b[0m\u001b[0;34m.\u001b[0m\u001b[0mbind\u001b[0m\u001b[0;34m(\u001b[0m\u001b[0max\u001b[0m\u001b[0;34m,\u001b[0m \u001b[0;34m*\u001b[0m\u001b[0margs\u001b[0m\u001b[0;34m,\u001b[0m \u001b[0;34m**\u001b[0m\u001b[0mkwargs\u001b[0m\u001b[0;34m)\u001b[0m\u001b[0;34m\u001b[0m\u001b[0;34m\u001b[0m\u001b[0m\n",
            "\u001b[0;32m/usr/local/lib/python3.6/dist-packages/matplotlib/axes/_axes.py\u001b[0m in \u001b[0;36mhist\u001b[0;34m(self, x, bins, range, density, weights, cumulative, bottom, histtype, align, orientation, rwidth, log, color, label, stacked, normed, **kwargs)\u001b[0m\n\u001b[1;32m   6955\u001b[0m             \u001b[0;32mif\u001b[0m \u001b[0mpatch\u001b[0m\u001b[0;34m:\u001b[0m\u001b[0;34m\u001b[0m\u001b[0;34m\u001b[0m\u001b[0m\n\u001b[1;32m   6956\u001b[0m                 \u001b[0mp\u001b[0m \u001b[0;34m=\u001b[0m \u001b[0mpatch\u001b[0m\u001b[0;34m[\u001b[0m\u001b[0;36m0\u001b[0m\u001b[0;34m]\u001b[0m\u001b[0;34m\u001b[0m\u001b[0;34m\u001b[0m\u001b[0m\n\u001b[0;32m-> 6957\u001b[0;31m                 \u001b[0mp\u001b[0m\u001b[0;34m.\u001b[0m\u001b[0mupdate\u001b[0m\u001b[0;34m(\u001b[0m\u001b[0mkwargs\u001b[0m\u001b[0;34m)\u001b[0m\u001b[0;34m\u001b[0m\u001b[0;34m\u001b[0m\u001b[0m\n\u001b[0m\u001b[1;32m   6958\u001b[0m                 \u001b[0;32mif\u001b[0m \u001b[0mlbl\u001b[0m \u001b[0;32mis\u001b[0m \u001b[0;32mnot\u001b[0m \u001b[0;32mNone\u001b[0m\u001b[0;34m:\u001b[0m\u001b[0;34m\u001b[0m\u001b[0;34m\u001b[0m\u001b[0m\n\u001b[1;32m   6959\u001b[0m                     \u001b[0mp\u001b[0m\u001b[0;34m.\u001b[0m\u001b[0mset_label\u001b[0m\u001b[0;34m(\u001b[0m\u001b[0mlbl\u001b[0m\u001b[0;34m)\u001b[0m\u001b[0;34m\u001b[0m\u001b[0;34m\u001b[0m\u001b[0m\n",
            "\u001b[0;32m/usr/local/lib/python3.6/dist-packages/matplotlib/artist.py\u001b[0m in \u001b[0;36mupdate\u001b[0;34m(self, props)\u001b[0m\n\u001b[1;32m    972\u001b[0m \u001b[0;34m\u001b[0m\u001b[0m\n\u001b[1;32m    973\u001b[0m         \u001b[0;32mwith\u001b[0m \u001b[0mcbook\u001b[0m\u001b[0;34m.\u001b[0m\u001b[0m_setattr_cm\u001b[0m\u001b[0;34m(\u001b[0m\u001b[0mself\u001b[0m\u001b[0;34m,\u001b[0m \u001b[0meventson\u001b[0m\u001b[0;34m=\u001b[0m\u001b[0;32mFalse\u001b[0m\u001b[0;34m)\u001b[0m\u001b[0;34m:\u001b[0m\u001b[0;34m\u001b[0m\u001b[0;34m\u001b[0m\u001b[0m\n\u001b[0;32m--> 974\u001b[0;31m             \u001b[0mret\u001b[0m \u001b[0;34m=\u001b[0m \u001b[0;34m[\u001b[0m\u001b[0m_update_property\u001b[0m\u001b[0;34m(\u001b[0m\u001b[0mself\u001b[0m\u001b[0;34m,\u001b[0m \u001b[0mk\u001b[0m\u001b[0;34m,\u001b[0m \u001b[0mv\u001b[0m\u001b[0;34m)\u001b[0m \u001b[0;32mfor\u001b[0m \u001b[0mk\u001b[0m\u001b[0;34m,\u001b[0m \u001b[0mv\u001b[0m \u001b[0;32min\u001b[0m \u001b[0mprops\u001b[0m\u001b[0;34m.\u001b[0m\u001b[0mitems\u001b[0m\u001b[0;34m(\u001b[0m\u001b[0;34m)\u001b[0m\u001b[0;34m]\u001b[0m\u001b[0;34m\u001b[0m\u001b[0;34m\u001b[0m\u001b[0m\n\u001b[0m\u001b[1;32m    975\u001b[0m \u001b[0;34m\u001b[0m\u001b[0m\n\u001b[1;32m    976\u001b[0m         \u001b[0;32mif\u001b[0m \u001b[0mlen\u001b[0m\u001b[0;34m(\u001b[0m\u001b[0mret\u001b[0m\u001b[0;34m)\u001b[0m\u001b[0;34m:\u001b[0m\u001b[0;34m\u001b[0m\u001b[0;34m\u001b[0m\u001b[0m\n",
            "\u001b[0;32m/usr/local/lib/python3.6/dist-packages/matplotlib/artist.py\u001b[0m in \u001b[0;36m<listcomp>\u001b[0;34m(.0)\u001b[0m\n\u001b[1;32m    972\u001b[0m \u001b[0;34m\u001b[0m\u001b[0m\n\u001b[1;32m    973\u001b[0m         \u001b[0;32mwith\u001b[0m \u001b[0mcbook\u001b[0m\u001b[0;34m.\u001b[0m\u001b[0m_setattr_cm\u001b[0m\u001b[0;34m(\u001b[0m\u001b[0mself\u001b[0m\u001b[0;34m,\u001b[0m \u001b[0meventson\u001b[0m\u001b[0;34m=\u001b[0m\u001b[0;32mFalse\u001b[0m\u001b[0;34m)\u001b[0m\u001b[0;34m:\u001b[0m\u001b[0;34m\u001b[0m\u001b[0;34m\u001b[0m\u001b[0m\n\u001b[0;32m--> 974\u001b[0;31m             \u001b[0mret\u001b[0m \u001b[0;34m=\u001b[0m \u001b[0;34m[\u001b[0m\u001b[0m_update_property\u001b[0m\u001b[0;34m(\u001b[0m\u001b[0mself\u001b[0m\u001b[0;34m,\u001b[0m \u001b[0mk\u001b[0m\u001b[0;34m,\u001b[0m \u001b[0mv\u001b[0m\u001b[0;34m)\u001b[0m \u001b[0;32mfor\u001b[0m \u001b[0mk\u001b[0m\u001b[0;34m,\u001b[0m \u001b[0mv\u001b[0m \u001b[0;32min\u001b[0m \u001b[0mprops\u001b[0m\u001b[0;34m.\u001b[0m\u001b[0mitems\u001b[0m\u001b[0;34m(\u001b[0m\u001b[0;34m)\u001b[0m\u001b[0;34m]\u001b[0m\u001b[0;34m\u001b[0m\u001b[0;34m\u001b[0m\u001b[0m\n\u001b[0m\u001b[1;32m    975\u001b[0m \u001b[0;34m\u001b[0m\u001b[0m\n\u001b[1;32m    976\u001b[0m         \u001b[0;32mif\u001b[0m \u001b[0mlen\u001b[0m\u001b[0;34m(\u001b[0m\u001b[0mret\u001b[0m\u001b[0;34m)\u001b[0m\u001b[0;34m:\u001b[0m\u001b[0;34m\u001b[0m\u001b[0;34m\u001b[0m\u001b[0m\n",
            "\u001b[0;32m/usr/local/lib/python3.6/dist-packages/matplotlib/artist.py\u001b[0m in \u001b[0;36m_update_property\u001b[0;34m(self, k, v)\u001b[0m\n\u001b[1;32m    968\u001b[0m                 \u001b[0;32mif\u001b[0m \u001b[0;32mnot\u001b[0m \u001b[0mcallable\u001b[0m\u001b[0;34m(\u001b[0m\u001b[0mfunc\u001b[0m\u001b[0;34m)\u001b[0m\u001b[0;34m:\u001b[0m\u001b[0;34m\u001b[0m\u001b[0;34m\u001b[0m\u001b[0m\n\u001b[1;32m    969\u001b[0m                     raise AttributeError('{!r} object has no property {!r}'\n\u001b[0;32m--> 970\u001b[0;31m                                          .format(type(self).__name__, k))\n\u001b[0m\u001b[1;32m    971\u001b[0m                 \u001b[0;32mreturn\u001b[0m \u001b[0mfunc\u001b[0m\u001b[0;34m(\u001b[0m\u001b[0mv\u001b[0m\u001b[0;34m)\u001b[0m\u001b[0;34m\u001b[0m\u001b[0;34m\u001b[0m\u001b[0m\n\u001b[1;32m    972\u001b[0m \u001b[0;34m\u001b[0m\u001b[0m\n",
            "\u001b[0;31mAttributeError\u001b[0m: 'Rectangle' object has no property 'aplha'"
          ]
        },
        {
          "output_type": "display_data",
          "data": {
            "image/png": "[encoded data removed]",
            "text/plain": [
              "<Figure size 432x288 with 1 Axes>"
            ]
          },
          "metadata": {
            "tags": []
          }
        }
      ]
    },
    {
      "cell_type": "code",
      "metadata": {
        "id": "lgqorIIEbxdD",
        "colab_type": "code",
        "outputId": "39046547-42c6-4180-ac2a-c96d2004dd1e",
        "colab": {
          "base_uri": "https://localhost:8080/",
          "height": 274
        }
      },
      "source": [
        "phd[phd['broad_field']=='Life sciences'].groupby('major_field')['n_phds'].head(5).plot(kind=\"bar\");"
      ],
      "execution_count": 0,
      "outputs": [
        {
          "output_type": "display_data",
          "data": {
            "image/png": "[encoded data removed]",
            "text/plain": [
              "<Figure size 432x288 with 1 Axes>"
            ]
          },
          "metadata": {
            "tags": []
          }
        }
      ]
    },
    {
      "cell_type": "code",
      "metadata": {
        "id": "Bt1eSTqMi3Fk",
        "colab_type": "code",
        "outputId": "3a5b8795-2a9f-43b7-b47e-0eef325202bc",
        "colab": {
          "base_uri": "https://localhost:8080/",
          "height": 374
        }
      },
      "source": [
        "pd.DataFrame(phd.groupby(['year', 'broad_field']).count()['n_phds'].sort_values(ascending=False)).head(10).plot(kind=\"bar\");"
      ],
      "execution_count": 0,
      "outputs": [
        {
          "output_type": "display_data",
          "data": {
            "image/png": "[encoded data removed]",
            "text/plain": [
              "<Figure size 432x288 with 1 Axes>"
            ]
          },
          "metadata": {
            "tags": []
          }
        }
      ]
    },
    {
      "cell_type": "code",
      "metadata": {
        "id": "cKI8qn7zeI-f",
        "colab_type": "code",
        "outputId": "7439cc38-29a7-49d3-8fd6-012fd103010f",
        "colab": {
          "base_uri": "https://localhost:8080/",
          "height": 493
        }
      },
      "source": [
        "pd.DataFrame(phd.groupby(['year', 'broad_field']).count()['n_phds'].sort_values(ascending=True)).head(10).plot(kind=\"bar\");"
      ],
      "execution_count": 0,
      "outputs": [
        {
          "output_type": "display_data",
          "data": {
            "image/png": "[encoded data removed]",
            "text/plain": [
              "<Figure size 432x288 with 1 Axes>"
            ]
          },
          "metadata": {
            "tags": []
          }
        }
      ]
    },
    {
      "cell_type": "code",
      "metadata": {
        "id": "EV_YYpSCgrvF",
        "colab_type": "code",
        "outputId": "4e700c9f-50ea-4146-e8fb-609b15258bc0",
        "colab": {
          "base_uri": "https://localhost:8080/",
          "height": 454
        }
      },
      "source": [
        "pd.DataFrame(phd.groupby('broad_field').count()['n_phds'].sort_values(ascending=False)).head(10).plot(kind=\"bar\");"
      ],
      "execution_count": 0,
      "outputs": [
        {
          "output_type": "display_data",
          "data": {
            "image/png": "[encoded data removed]",
            "text/plain": [
              "<Figure size 432x288 with 1 Axes>"
            ]
          },
          "metadata": {
            "tags": []
          }
        }
      ]
    },
    {
      "cell_type": "code",
      "metadata": {
        "id": "zPL-faGnmr7g",
        "colab_type": "code",
        "outputId": "c8946b2e-e753-4ac2-8ef2-a9f3016464e5",
        "colab": {
          "base_uri": "https://localhost:8080/",
          "height": 301
        }
      },
      "source": [
        "plt.plot(phd[phd['broad_field']=='Life sciences'].groupby('year')['n_phds'].nunique(), 'ro-');\n",
        "plt.xlabel('Years', fontsize=14);\n",
        "plt.ylabel('Life Sciences', fontsize=14);\n",
        "plt.title('Number of phd in Life Science broad major', fontsize=16);"
      ],
      "execution_count": 0,
      "outputs": [
        {
          "output_type": "display_data",
          "data": {
            "image/png": "[encoded data removed]",
            "text/plain": [
              "<Figure size 432x288 with 1 Axes>"
            ]
          },
          "metadata": {
            "tags": []
          }
        }
      ]
    },
    {
      "cell_type": "code",
      "metadata": {
        "id": "vxm6zOt2o3FM",
        "colab_type": "code",
        "colab": {}
      },
      "source": [
        "pd.DataFrame(phd[phd['broad_field']=='Life sciences'].groupby('major_field').count()['n_phds'].sort_values(ascending=False));"
      ],
      "execution_count": 0,
      "outputs": []
    },
    {
      "cell_type": "code",
      "metadata": {
        "id": "llJDpLKInaiR",
        "colab_type": "code",
        "outputId": "cbf847cc-cd11-4474-dc38-63b7a5a1d6d3",
        "colab": {
          "base_uri": "https://localhost:8080/",
          "height": 552
        }
      },
      "source": [
        "pd.DataFrame(phd[phd['broad_field']=='Life sciences'].groupby('major_field').count()['n_phds']).plot(kind='bar');\n"
      ],
      "execution_count": 0,
      "outputs": [
        {
          "output_type": "display_data",
          "data": {
            "image/png": "[encoded data removed]",
            "text/plain": [
              "<Figure size 432x288 with 1 Axes>"
            ]
          },
          "metadata": {
            "tags": []
          }
        }
      ]
    },
    {
      "cell_type": "code",
      "metadata": {
        "id": "4YigSg-ZnlgM",
        "colab_type": "code",
        "outputId": "68ffbd2a-a764-47be-e765-330ee12e200e",
        "colab": {
          "base_uri": "https://localhost:8080/",
          "height": 552
        }
      },
      "source": [
        "pd.DataFrame(phd[phd['broad_field']=='Life sciences'].groupby('major_field').count()['n_phds'].sort_values(ascending=False)).head(10).plot(kind='bar');"
      ],
      "execution_count": 0,
      "outputs": [
        {
          "output_type": "display_data",
          "data": {
            "image/png": "[encoded data removed]",
            "text/plain": [
              "<Figure size 432x288 with 1 Axes>"
            ]
          },
          "metadata": {
            "tags": []
          }
        }
      ]
    },
    {
      "cell_type": "code",
      "metadata": {
        "id": "iGlYu_TDoilS",
        "colab_type": "code",
        "outputId": "df27e0fa-ad9b-44ac-aaa0-51362e3de593",
        "colab": {
          "base_uri": "https://localhost:8080/",
          "height": 552
        }
      },
      "source": [
        "pd.DataFrame(phd[phd['broad_field']=='Life sciences'].groupby('major_field').count()['n_phds'].sort_values(ascending=True)).head(10).plot(kind='bar');"
      ],
      "execution_count": 0,
      "outputs": [
        {
          "output_type": "display_data",
          "data": {
            "image/png": "[encoded data removed]",
            "text/plain": [
              "<Figure size 432x288 with 1 Axes>"
            ]
          },
          "metadata": {
            "tags": []
          }
        }
      ]
    },
    {
      "cell_type": "code",
      "metadata": {
        "id": "GPubuUCLoxF9",
        "colab_type": "code",
        "outputId": "480d3e73-25c7-422b-8e51-dfc72abca6f4",
        "colab": {
          "base_uri": "https://localhost:8080/",
          "height": 484
        }
      },
      "source": [
        "pd.DataFrame(phd[phd['broad_field']=='Life sciences'].groupby(['major_field', 'year']).count()['n_phds'].sort_values(ascending=False)).head(10).plot(kind='bar');"
      ],
      "execution_count": 0,
      "outputs": [
        {
          "output_type": "display_data",
          "data": {
            "image/png": "[encoded data removed]",
            "text/plain": [
              "<Figure size 432x288 with 1 Axes>"
            ]
          },
          "metadata": {
            "tags": []
          }
        }
      ]
    },
    {
      "cell_type": "code",
      "metadata": {
        "id": "MctcQNoHpWFk",
        "colab_type": "code",
        "outputId": "fc83d40c-90c1-47f7-f5b3-38ba646074d4",
        "colab": {
          "base_uri": "https://localhost:8080/",
          "height": 449
        }
      },
      "source": [
        "pd.DataFrame(phd[phd['broad_field']=='Mathematics and computer sciences'].groupby('major_field').count()['n_phds'].sort_values(ascending=False)).head(10).plot(kind='bar');"
      ],
      "execution_count": 0,
      "outputs": [
        {
          "output_type": "display_data",
          "data": {
            "image/png": "[encoded data removed]",
            "text/plain": [
              "<Figure size 432x288 with 1 Axes>"
            ]
          },
          "metadata": {
            "tags": []
          }
        }
      ]
    },
    {
      "cell_type": "code",
      "metadata": {
        "id": "1BiPb2XMxrj8",
        "colab_type": "code",
        "outputId": "0f462f3e-11e5-49dd-cc77-8da523f5c17a",
        "colab": {
          "base_uri": "https://localhost:8080/",
          "height": 304
        }
      },
      "source": [
        "plt.plot(phd[phd['broad_field']=='Mathematics and computer sciences'].groupby('year')['n_phds'].nunique(), 'ro-');\n",
        "plt.xlabel('Years', fontsize=14);\n",
        "plt.ylabel('Mathematics and computer sciences', fontsize=14);\n",
        "plt.title('Number of phd in Mathematics and computer sciences broad major', fontsize=16);"
      ],
      "execution_count": 0,
      "outputs": [
        {
          "output_type": "display_data",
          "data": {
            "image/png": "[encoded data removed]",
            "text/plain": [
              "<Figure size 432x288 with 1 Axes>"
            ]
          },
          "metadata": {
            "tags": []
          }
        }
      ]
    },
    {
      "cell_type": "code",
      "metadata": {
        "colab_type": "code",
        "outputId": "bbcbaa2c-17fa-4449-c190-fb13eee23735",
        "id": "YT6zK3ERqgqV",
        "colab": {
          "base_uri": "https://localhost:8080/",
          "height": 444
        }
      },
      "source": [
        "pd.DataFrame(phd[phd['broad_field']=='Mathematics and computer sciences'].groupby(['major_field', 'year']).count()['n_phds'].sort_values(ascending=False)).head(10).plot(kind='bar');"
      ],
      "execution_count": 0,
      "outputs": [
        {
          "output_type": "display_data",
          "data": {
            "image/png": "[encoded data removed]",
            "text/plain": [
              "<Figure size 432x288 with 1 Axes>"
            ]
          },
          "metadata": {
            "tags": []
          }
        }
      ]
    },
    {
      "cell_type": "code",
      "metadata": {
        "id": "jeBIvTOfqkoz",
        "colab_type": "code",
        "colab": {}
      },
      "source": [
        ""
      ],
      "execution_count": 0,
      "outputs": []
    },
    {
      "cell_type": "code",
      "metadata": {
        "colab_type": "code",
        "outputId": "2b26e7e5-c19c-4439-d325-c52d69cbafab",
        "id": "cr-ZCgCtvIpy",
        "colab": {
          "base_uri": "https://localhost:8080/",
          "height": 492
        }
      },
      "source": [
        "pd.DataFrame(phd[phd['major_field']=='Computer and information sciences'].groupby('field').count()['n_phds']).plot(kind='bar');"
      ],
      "execution_count": 0,
      "outputs": [
        {
          "output_type": "display_data",
          "data": {
            "image/png": "[encoded data removed]",
            "text/plain": [
              "<Figure size 432x288 with 1 Axes>"
            ]
          },
          "metadata": {
            "tags": []
          }
        }
      ]
    },
    {
      "cell_type": "code",
      "metadata": {
        "id": "BLWpqsK4vS8O",
        "colab_type": "code",
        "outputId": "fa6c0a75-82c6-49f1-d49e-d9aa2b7c4224",
        "colab": {
          "base_uri": "https://localhost:8080/",
          "height": 362
        }
      },
      "source": [
        "pd.DataFrame(phd[phd['broad_field']=='Engineering'].groupby('major_field').count()['n_phds'].sort_values(ascending=False)).plot(kind='bar');"
      ],
      "execution_count": 0,
      "outputs": [
        {
          "output_type": "display_data",
          "data": {
            "image/png": "[encoded data removed]",
            "text/plain": [
              "<Figure size 432x288 with 1 Axes>"
            ]
          },
          "metadata": {
            "tags": []
          }
        }
      ]
    },
    {
      "cell_type": "code",
      "metadata": {
        "id": "xJPCVn_-vz55",
        "colab_type": "code",
        "outputId": "2ad1e84d-0ed1-45a3-9346-372d4978cc7a",
        "colab": {
          "base_uri": "https://localhost:8080/",
          "height": 301
        }
      },
      "source": [
        "plt.plot(phd[phd['broad_field']=='Engineering'].groupby('year')['n_phds'].nunique(), 'ro-');\n",
        "plt.xlabel('Years', fontsize=14);\n",
        "plt.ylabel('Engineering', fontsize=14);\n",
        "plt.title('Number of phd in Engineering broad major', fontsize=16);"
      ],
      "execution_count": 0,
      "outputs": [
        {
          "output_type": "display_data",
          "data": {
            "image/png": "[encoded data removed]",
            "text/plain": [
              "<Figure size 432x288 with 1 Axes>"
            ]
          },
          "metadata": {
            "tags": []
          }
        }
      ]
    },
    {
      "cell_type": "code",
      "metadata": {
        "id": "_-K-bW5OyvBT",
        "colab_type": "code",
        "outputId": "2729dcd8-8e96-4d71-92ed-848900cc1a75",
        "colab": {
          "base_uri": "https://localhost:8080/",
          "height": 49
        }
      },
      "source": [
        "computer = pd.DataFrame(phd[phd['broad_field']=='Mathematics and computer sciences']);\n",
        "computer.loc[computer['field'] == ' Computer engineering']"
      ],
      "execution_count": 0,
      "outputs": [
        {
          "output_type": "execute_result",
          "data": {
            "text/html": [
              "<div>\n",
              "<style scoped>\n",
              "    .dataframe tbody tr th:only-of-type {\n",
              "        vertical-align: middle;\n",
              "    }\n",
              "\n",
              "    .dataframe tbody tr th {\n",
              "        vertical-align: top;\n",
              "    }\n",
              "\n",
              "    .dataframe thead th {\n",
              "        text-align: right;\n",
              "    }\n",
              "</style>\n",
              "<table border=\"1\" class=\"dataframe\">\n",
              "  <thead>\n",
              "    <tr style=\"text-align: right;\">\n",
              "      <th></th>\n",
              "      <th>broad_field</th>\n",
              "      <th>major_field</th>\n",
              "      <th>field</th>\n",
              "      <th>year</th>\n",
              "      <th>n_phds</th>\n",
              "    </tr>\n",
              "  </thead>\n",
              "  <tbody>\n",
              "  </tbody>\n",
              "</table>\n",
              "</div>"
            ],
            "text/plain": [
              "Empty DataFrame\n",
              "Columns: [broad_field, major_field, field, year, n_phds]\n",
              "Index: []"
            ]
          },
          "metadata": {
            "tags": []
          },
          "execution_count": 64
        }
      ]
    },
    {
      "cell_type": "code",
      "metadata": {
        "id": "20Oqjp82zuoQ",
        "colab_type": "code",
        "outputId": "ccced4e2-f0f0-4768-c999-0105ff2584be",
        "colab": {
          "base_uri": "https://localhost:8080/",
          "height": 359
        }
      },
      "source": [
        "computer_d = pd.DataFrame(phd[phd['broad_field']=='Engineering']);\n",
        "computer_d.head(10)\n"
      ],
      "execution_count": 0,
      "outputs": [
        {
          "output_type": "execute_result",
          "data": {
            "text/html": [
              "<div>\n",
              "<style scoped>\n",
              "    .dataframe tbody tr th:only-of-type {\n",
              "        vertical-align: middle;\n",
              "    }\n",
              "\n",
              "    .dataframe tbody tr th {\n",
              "        vertical-align: top;\n",
              "    }\n",
              "\n",
              "    .dataframe thead th {\n",
              "        text-align: right;\n",
              "    }\n",
              "</style>\n",
              "<table border=\"1\" class=\"dataframe\">\n",
              "  <thead>\n",
              "    <tr style=\"text-align: right;\">\n",
              "      <th></th>\n",
              "      <th>broad_field</th>\n",
              "      <th>major_field</th>\n",
              "      <th>field</th>\n",
              "      <th>year</th>\n",
              "      <th>n_phds</th>\n",
              "    </tr>\n",
              "  </thead>\n",
              "  <tbody>\n",
              "    <tr>\n",
              "      <th>195</th>\n",
              "      <td>Engineering</td>\n",
              "      <td>Other engineering</td>\n",
              "      <td>Agricultural engineering</td>\n",
              "      <td>2008</td>\n",
              "      <td>61.0</td>\n",
              "    </tr>\n",
              "    <tr>\n",
              "      <th>196</th>\n",
              "      <td>Engineering</td>\n",
              "      <td>Other engineering</td>\n",
              "      <td>Ceramic sciences engineering</td>\n",
              "      <td>2008</td>\n",
              "      <td>7.0</td>\n",
              "    </tr>\n",
              "    <tr>\n",
              "      <th>197</th>\n",
              "      <td>Engineering</td>\n",
              "      <td>Other engineering</td>\n",
              "      <td>Communications engineering</td>\n",
              "      <td>2008</td>\n",
              "      <td>26.0</td>\n",
              "    </tr>\n",
              "    <tr>\n",
              "      <th>198</th>\n",
              "      <td>Engineering</td>\n",
              "      <td>Other engineering</td>\n",
              "      <td>Computer engineering</td>\n",
              "      <td>2008</td>\n",
              "      <td>386.0</td>\n",
              "    </tr>\n",
              "    <tr>\n",
              "      <th>199</th>\n",
              "      <td>Engineering</td>\n",
              "      <td>Other engineering</td>\n",
              "      <td>Engineering management, administration</td>\n",
              "      <td>2008</td>\n",
              "      <td>39.0</td>\n",
              "    </tr>\n",
              "    <tr>\n",
              "      <th>200</th>\n",
              "      <td>Engineering</td>\n",
              "      <td>Other engineering</td>\n",
              "      <td>Engineering mechanics</td>\n",
              "      <td>2008</td>\n",
              "      <td>60.0</td>\n",
              "    </tr>\n",
              "    <tr>\n",
              "      <th>201</th>\n",
              "      <td>Engineering</td>\n",
              "      <td>Other engineering</td>\n",
              "      <td>Engineering physics</td>\n",
              "      <td>2008</td>\n",
              "      <td>26.0</td>\n",
              "    </tr>\n",
              "    <tr>\n",
              "      <th>202</th>\n",
              "      <td>Engineering</td>\n",
              "      <td>Other engineering</td>\n",
              "      <td>Engineering science</td>\n",
              "      <td>2008</td>\n",
              "      <td>35.0</td>\n",
              "    </tr>\n",
              "    <tr>\n",
              "      <th>203</th>\n",
              "      <td>Engineering</td>\n",
              "      <td>Other engineering</td>\n",
              "      <td>Environmental, environmental health engineeringl</td>\n",
              "      <td>2008</td>\n",
              "      <td>153.0</td>\n",
              "    </tr>\n",
              "    <tr>\n",
              "      <th>204</th>\n",
              "      <td>Engineering</td>\n",
              "      <td>Other engineering</td>\n",
              "      <td>Geotechnical and geoenvironmental engineering</td>\n",
              "      <td>2008</td>\n",
              "      <td>NaN</td>\n",
              "    </tr>\n",
              "  </tbody>\n",
              "</table>\n",
              "</div>"
            ],
            "text/plain": [
              "     broad_field        major_field  ...  year  n_phds\n",
              "195  Engineering  Other engineering  ...  2008    61.0\n",
              "196  Engineering  Other engineering  ...  2008     7.0\n",
              "197  Engineering  Other engineering  ...  2008    26.0\n",
              "198  Engineering  Other engineering  ...  2008   386.0\n",
              "199  Engineering  Other engineering  ...  2008    39.0\n",
              "200  Engineering  Other engineering  ...  2008    60.0\n",
              "201  Engineering  Other engineering  ...  2008    26.0\n",
              "202  Engineering  Other engineering  ...  2008    35.0\n",
              "203  Engineering  Other engineering  ...  2008   153.0\n",
              "204  Engineering  Other engineering  ...  2008     NaN\n",
              "\n",
              "[10 rows x 5 columns]"
            ]
          },
          "metadata": {
            "tags": []
          },
          "execution_count": 69
        }
      ]
    },
    {
      "cell_type": "code",
      "metadata": {
        "id": "2LzfOmYi03UA",
        "colab_type": "code",
        "outputId": "3df530d2-88d5-4aa9-ced5-b8cf55880e06",
        "colab": {
          "base_uri": "https://localhost:8080/",
          "height": 204
        }
      },
      "source": [
        "print(computer_d.loc[computer_d['field'] == 'Computer engineering']);"
      ],
      "execution_count": 0,
      "outputs": [
        {
          "output_type": "stream",
          "text": [
            "      broad_field        major_field                 field  year  n_phds\n",
            "198   Engineering  Other engineering  Computer engineering  2008   386.0\n",
            "535   Engineering  Other engineering  Computer engineering  2009   380.0\n",
            "872   Engineering  Other engineering  Computer engineering  2010   374.0\n",
            "1209  Engineering  Other engineering  Computer engineering  2011   372.0\n",
            "1546  Engineering  Other engineering  Computer engineering  2012   406.0\n",
            "1883  Engineering  Other engineering  Computer engineering  2013   417.0\n",
            "2220  Engineering  Other engineering  Computer engineering  2014   465.0\n",
            "2557  Engineering  Other engineering  Computer engineering  2015   410.0\n",
            "2894  Engineering  Other engineering  Computer engineering  2016   401.0\n",
            "3231  Engineering  Other engineering  Computer engineering  2017   419.0\n"
          ],
          "name": "stdout"
        }
      ]
    },
    {
      "cell_type": "code",
      "metadata": {
        "id": "t3PsRHDI1XEE",
        "colab_type": "code",
        "outputId": "88ec15f5-918c-4f91-f993-54d6ee63a59b",
        "colab": {
          "base_uri": "https://localhost:8080/",
          "height": 301
        }
      },
      "source": [
        "plt.plot(phd[phd['field']=='Computer engineering'].groupby('year')['n_phds'].nunique(), 'ro-');\n",
        "plt.xlabel('Years', fontsize=14);\n",
        "plt.ylabel('Engineering', fontsize=14);\n",
        "plt.title('Number of phd in Engineering broad major', fontsize=16);"
      ],
      "execution_count": 0,
      "outputs": [
        {
          "output_type": "display_data",
          "data": {
            "image/png": "[encoded data removed]",
            "text/plain": [
              "<Figure size 432x288 with 1 Axes>"
            ]
          },
          "metadata": {
            "tags": []
          }
        }
      ]
    },
    {
      "cell_type": "code",
      "metadata": {
        "id": "2ITliCsg10_O",
        "colab_type": "code",
        "outputId": "fcad7998-2aef-4e0f-90cf-e957e2f97f83",
        "colab": {
          "base_uri": "https://localhost:8080/",
          "height": 301
        }
      },
      "source": [
        "computer_p =computer_d.loc[computer_d['field'] == 'Computer engineering']\n",
        "plt.plot( computer_p.year, computer_p.n_phds, 'ro-');\n",
        "plt.xlabel('Years', fontsize=14);\n",
        "plt.ylabel('Computer Engineering', fontsize=14);\n",
        "plt.title('Number of phd in Computer Engineering', fontsize=16);"
      ],
      "execution_count": 0,
      "outputs": [
        {
          "output_type": "display_data",
          "data": {
            "image/png": "[encoded data removed]",
            "text/plain": [
              "<Figure size 432x288 with 1 Axes>"
            ]
          },
          "metadata": {
            "tags": []
          }
        }
      ]
    },
    {
      "cell_type": "code",
      "metadata": {
        "id": "IHQm4WY93PZa",
        "colab_type": "code",
        "colab": {
          "base_uri": "https://localhost:8080/",
          "height": 129
        },
        "outputId": "a9bbcbf5-9c6d-4a1c-da17-8ea1fc9efbec"
      },
      "source": [
        "git push -u origin master"
      ],
      "execution_count": 3,
      "outputs": [
        {
          "output_type": "error",
          "ename": "SyntaxError",
          "evalue": "ignored",
          "traceback": [
            "\u001b[0;36m  File \u001b[0;32m\"<ipython-input-3-cdea89f33e20>\"\u001b[0;36m, line \u001b[0;32m1\u001b[0m\n\u001b[0;31m    git push -u origin master\u001b[0m\n\u001b[0m           ^\u001b[0m\n\u001b[0;31mSyntaxError\u001b[0m\u001b[0;31m:\u001b[0m invalid syntax\n"
          ]
        }
      ]
    },
    {
      "cell_type": "code",
      "metadata": {
        "id": "OLtDYPT5b8Gx",
        "colab_type": "code",
        "colab": {}
      },
      "source": [
        ""
      ],
      "execution_count": 0,
      "outputs": []
    }
  ]
}